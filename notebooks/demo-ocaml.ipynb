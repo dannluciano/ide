{
  "cells": [
    {
      "cell_type": "markdown",
      "metadata": {},
      "source": [
        "\n",
        "# Welcome to xeus-ocaml! 🚀\n",
        "\n",
        "`xeus-ocaml` is a Jupyter kernel for the OCaml programming language that runs entirely in your web browser, powered by WebAssembly.\n",
        "\n",
        "This notebook will walk you through its key features:\n",
        "- **Interactive OCaml Toplevel**: Run OCaml code and see results instantly.\n",
        "- **Code Intelligence**: Get code completion and type/documentation inspection, thanks to Merlin.\n",
        "- **Rich Display**: Render HTML, Markdown, plots, and more directly from OCaml.\n",
        "- **Dynamic Library Loading**: Use the `#require` directive to load external libraries like `ocamlgraph`.\n",
        "- **Virtual Filesystem**: Work with files using standard OCaml I/O functions.\n",
        "\n",
        "Let's get started!\n",
        "\n",
        "## 1. Basic Toplevel Execution\n",
        "\n",
        "You can execute OCaml code just like in a regular toplevel. Each phrase must end with `;;`."
      ]
    },
    {
      "cell_type": "code",
      "execution_count": null,
      "metadata": {
        "trusted": true
      },
      "outputs": [],
      "source": [
        "1 + 1;;\n",
        "\n",
        "\"Hello, \" ^ \"Jupyter!\";;"
      ]
    },
    {
      "cell_type": "markdown",
      "metadata": {},
      "source": [
        "The kernel maintains its state between cells. You can define a function in one cell and use it in another."
      ]
    },
    {
      "cell_type": "code",
      "execution_count": null,
      "metadata": {
        "trusted": true
      },
      "outputs": [],
      "source": [
        "let greet name = \"Hello, \" ^ name ^ \"!\";;"
      ]
    },
    {
      "cell_type": "code",
      "execution_count": null,
      "metadata": {
        "trusted": true
      },
      "outputs": [],
      "source": [
        "greet \"xeus-ocaml\";;"
      ]
    },
    {
      "cell_type": "markdown",
      "metadata": {},
      "source": [
        "\n",
        "## 2. Code Intelligence with Merlin\n",
        "\n",
        "`xeus-ocaml` integrates Merlin to provide an IDE-like experience.\n",
        "\n",
        "#### Code Completion\n",
        "In the cell below, place your cursor after `List.` and press `Tab` to see a list of available functions.\n"
      ]
    },
    {
      "cell_type": "code",
      "execution_count": null,
      "metadata": {
        "trusted": true
      },
      "outputs": [],
      "source": [
        "List."
      ]
    },
    {
      "cell_type": "markdown",
      "metadata": {},
      "source": [
        "#### Code Inspection\n",
        "\n",
        "You can view the type and documentation for an identifier by placing your cursor over it and pressing `Shift+Tab`. You can also open the Helper with `Ctrl+I`"
      ]
    },
    {
      "cell_type": "code",
      "execution_count": null,
      "metadata": {
        "trusted": true
      },
      "outputs": [],
      "source": [
        "List.map"
      ]
    },
    {
      "cell_type": "markdown",
      "metadata": {},
      "source": [
        "## 3. Rich Display with `Xlib`\n",
        "\n",
        "The `Xlib` module is automatically opened at startup, providing functions to render rich outputs like HTML, Markdown, and even interactive plots.\n"
      ]
    },
    {
      "cell_type": "code",
      "execution_count": null,
      "metadata": {
        "trusted": true
      },
      "outputs": [],
      "source": [
        "output_html \"<h1>This is an HTML Header</h1><p>Rendered from OCaml!</p>\";;\n",
        "\n",
        "output_markdown \"# And this is Markdown\\n\\n* With a bullet point!\\n* And another.\";;\n"
      ]
    },
    {
      "cell_type": "markdown",
      "metadata": {},
      "source": [
        "You can also display structured data like JSON and create interactive plots using Vega-Lite."
      ]
    },
    {
      "cell_type": "code",
      "execution_count": null,
      "metadata": {
        "trusted": true
      },
      "outputs": [],
      "source": [
        "(* Display a JSON object *)\n",
        "let json_string = \"{\\\"name\\\": \\\"xeus-ocaml\\\", \\\"is_awesome\\\": true}\";;\n",
        "output_json json_string;;\n",
        "\n",
        "(* Display a Vega-Lite bar chart *)\n",
        "let vega_spec = {|\n",
        "  {\n",
        "    \"$schema\": \"https://vega.github.io/schema/vega-lite/v5.json\",\n",
        "    \"description\": \"A simple bar chart.\",\n",
        "    \"data\": {\n",
        "      \"values\": [\n",
        "        {\"a\": \"A\", \"b\": 28}, {\"a\": \"B\", \"b\": 55}, {\"a\": \"C\", \"b\": 43},\n",
        "        {\"a\": \"D\", \"b\": 91}, {\"a\": \"E\", \"b\": 81}, {\"a\": \"F\", \"b\": 53}\n",
        "      ]\n",
        "    },\n",
        "    \"mark\": \"bar\",\n",
        "    \"encoding\": {\n",
        "      \"x\": {\"field\": \"a\", \"type\": \"nominal\"},\n",
        "      \"y\": {\"field\": \"b\", \"type\": \"quantitative\"}\n",
        "    }\n",
        "  }\n",
        "|};;\n",
        "output_vegalite vega_spec;;\n"
      ]
    },
    {
      "cell_type": "markdown",
      "metadata": {},
      "source": [
        "## 4. Dynamic Library Loading with `ocamlgraph`\n",
        "\n",
        "You can load external libraries using the `#require` directive. Let's load `ocamlgraph` to build and visualize a graph.\n"
      ]
    },
    {
      "cell_type": "code",
      "execution_count": null,
      "metadata": {
        "trusted": true
      },
      "outputs": [],
      "source": [
        "#require \"ocamlgraph\";;"
      ]
    },
    {
      "cell_type": "markdown",
      "metadata": {},
      "source": [
        "### Creating a Simple Graph\n",
        "\n",
        "Let's start by defining a module for a simple, persistent, directed graph.\n",
        "- **`Persistent`**: The graph data structure is immutable. Every operation (like adding an edge) returns a *new* graph.\n",
        "- **`Digraph`**: The graph is directed (edges have a source and a destination).\n",
        "- **`Concrete`**: The vertices themselves are the labels (in this case, `string`).\n"
      ]
    },
    {
      "cell_type": "code",
      "execution_count": null,
      "metadata": {
        "trusted": true
      },
      "outputs": [],
      "source": [
        "open Graph;;\n",
        "\n",
        "module G = Persistent.Digraph.Concrete(\n",
        "  struct\n",
        "    type t = string\n",
        "    let compare = String.compare\n",
        "    let hash = Hashtbl.hash\n",
        "    let equal = (=)\n",
        "  end\n",
        ");;\n",
        "\n",
        "(* Create an empty graph *)\n",
        "let g = G.empty;;\n",
        "\n",
        "print_endline \"Empty graph created.\";;"
      ]
    },
    {
      "cell_type": "markdown",
      "metadata": {},
      "source": [
        "### Adding Vertices and Edges\n",
        "\n",
        "Since our graph is persistent, we re-assign the `g` variable with the new graph returned by each operation. We'll model a simple graph of flights between cities."
      ]
    },
    {
      "cell_type": "code",
      "execution_count": null,
      "metadata": {
        "trusted": true
      },
      "outputs": [],
      "source": [
        "let g = G.add_vertex g \"Paris\";;\n",
        "let g = G.add_vertex g \"London\";;\n",
        "let g = G.add_vertex g \"New York\";;\n",
        "let g = G.add_vertex g \"Tokyo\";;\n",
        "\n",
        "let g = G.add_edge g \"London\" \"Paris\";;\n",
        "let g = G.add_edge g \"Paris\" \"New York\";;\n",
        "let g = G.add_edge g \"New York\" \"Tokyo\";;\n",
        "let g = G.add_edge g \"Tokyo\" \"London\";; (* A cycle! *)\n",
        "let g = G.add_edge g \"Paris\" \"Tokyo\";;\n",
        "\n",
        "print_endline \"Added 4 vertices and 5 edges.\";;"
      ]
    },
    {
      "cell_type": "markdown",
      "metadata": {},
      "source": [
        "### Inspecting the Graph\n",
        "\n",
        "We can now query the graph for basic information like the number of vertices and edges, and iterate over them."
      ]
    },
    {
      "cell_type": "code",
      "execution_count": null,
      "metadata": {
        "trusted": true
      },
      "outputs": [],
      "source": [
        "Printf.printf \"Number of vertices: %d\\n\" (G.nb_vertex g);;\n",
        "Printf.printf \"Number of edges: %d\\n\" (G.nb_edges g);;\n",
        "\n",
        "print_endline \"\\nVertices:\";;\n",
        "G.iter_vertex (fun v -> print_endline v) g;;\n",
        "\n",
        "print_endline \"\\nEdges:\";;\n",
        "G.iter_edges_e (fun (src, dst) -> Printf.printf \"%s -> %s\\n\" src dst) g;;"
      ]
    },
    {
      "cell_type": "markdown",
      "metadata": {},
      "source": [
        "### Running a Simple Algorithm: Depth-First Search (DFS)\n",
        "\n",
        "OCamlGraph comes with many pre-built algorithms. Let's use a Depth-First Search traversal. We create a new module `Dfs` by applying the `Graph.Traverse.Dfs` functor to our graph module `G`."
      ]
    },
    {
      "cell_type": "code",
      "execution_count": null,
      "metadata": {
        "trusted": true
      },
      "outputs": [],
      "source": [
        "module Dfs = Traverse.Dfs(G);;"
      ]
    },
    {
      "cell_type": "markdown",
      "metadata": {},
      "source": [
        "#### DFS traversal order (prefix):"
      ]
    },
    {
      "cell_type": "code",
      "execution_count": null,
      "metadata": {
        "trusted": true
      },
      "outputs": [],
      "source": [
        "Dfs.iter ~pre:(fun v -> Printf.printf \"%s \" v) g;;"
      ]
    },
    {
      "cell_type": "markdown",
      "metadata": {},
      "source": [
        "#### Check for cycles"
      ]
    },
    {
      "cell_type": "code",
      "execution_count": null,
      "metadata": {
        "trusted": true
      },
      "outputs": [],
      "source": [
        "if Dfs.has_cycle g then\n",
        "  print_endline \"\\nThe graph has at least one cycle.\"\n",
        "else\n",
        "  print_endline \"\\nThe graph is a DAG (Directed Acyclic Graph).\";;"
      ]
    },
    {
      "cell_type": "markdown",
      "metadata": {},
      "source": [
        "### Visualization with Graphviz (Dot format)\n",
        "\n",
        "OCamlGraph can generate output in the **DOT language**, which can be used by the Graphviz tool suite to render an image of the graph.\n",
        "\n",
        "First, we create a `Dot` module configured for our graph `G`, specifying how vertices and the overall graph should be styled."
      ]
    },
    {
      "cell_type": "code",
      "execution_count": null,
      "metadata": {
        "trusted": true
      },
      "outputs": [],
      "source": [
        "module Dot = Graphviz.Dot(\n",
        "  struct\n",
        "    include G (* Use our graph module `G` *)\n",
        "\n",
        "    (* Graph-level attributes *)\n",
        "    let graph_attributes _ = [`Rankdir `LeftToRight]\n",
        "    \n",
        "    (* Default vertex attributes *)\n",
        "    let default_vertex_attributes _ = []\n",
        "    \n",
        "    (* Vertex-specific attributes *)\n",
        "    let vertex_name v = Printf.sprintf \"\\\"%s\\\"\" v (* Quote vertex names *)\n",
        "    let vertex_attributes _ = [`Shape `Box; `Style `Rounded]\n",
        "    \n",
        "    (* Default edge attributes *)\n",
        "    let default_edge_attributes _ = []\n",
        "    \n",
        "    (* Edge-specific attributes *)\n",
        "    let edge_attributes _ = []\n",
        "    \n",
        "    (* Subgraph handling (not used here) *)\n",
        "    let get_subgraph _ = None\n",
        "  end\n",
        ");;"
      ]
    },
    {
      "cell_type": "markdown",
      "metadata": {},
      "source": [
        "### Generating the Graph dot string (graphviz)\n",
        "\n",
        "Now, let's generate the DOT representation and print it !"
      ]
    },
    {
      "cell_type": "code",
      "execution_count": null,
      "metadata": {
        "trusted": true
      },
      "outputs": [],
      "source": [
        "let dot_string = Format.asprintf \"%a\" Dot.fprint_graph g "
      ]
    },
    {
      "cell_type": "markdown",
      "metadata": {},
      "source": [
        "### SVG Visualization with builtin extension and viz.js"
      ]
    },
    {
      "cell_type": "code",
      "execution_count": null,
      "metadata": {
        "trusted": true
      },
      "outputs": [],
      "source": [
        "output_dot dot_string"
      ]
    },
    {
      "cell_type": "markdown",
      "metadata": {},
      "source": [
        "## 5. Virtual Filesystem\n",
        "\n",
        "The kernel includes an in-memory virtual filesystem. You can use standard OCaml `In_channel`, `Out_channel`, and `Sys` functions to interact with it."
      ]
    },
    {
      "cell_type": "code",
      "execution_count": null,
      "metadata": {
        "trusted": true
      },
      "outputs": [],
      "source": [
        "(* Write a message to a file *)\n",
        "let message = \"Hello from the virtual filesystem!\";;\n",
        "let oc = open_out \"hello.txt\";;\n",
        "output_string oc message;;\n",
        "close_out oc;;"
      ]
    },
    {
      "cell_type": "code",
      "execution_count": null,
      "metadata": {
        "trusted": true
      },
      "outputs": [],
      "source": [
        "(* Read the message back *)\n",
        "let ic = open_in \"hello.txt\";;\n",
        "let read_message = input_line ic;;\n",
        "close_in ic;;\n",
        "\n",
        "read_message;;"
      ]
    },
    {
      "cell_type": "markdown",
      "metadata": {},
      "source": [
        "We can verify the file was created by listing the contents of the current directory."
      ]
    },
    {
      "cell_type": "code",
      "execution_count": null,
      "metadata": {
        "trusted": true
      },
      "outputs": [],
      "source": [
        "Sys.readdir \".\";;"
      ]
    },
    {
      "cell_type": "markdown",
      "metadata": {},
      "source": [
        "## 🎉 Conclusion\n",
        "\n",
        "This notebook has demonstrated the core features of `xeus-ocaml`. You've seen how to execute code, get rich language support, display visualizations, load libraries, and interact with a virtual filesystem, all within your browser.\n",
        "\n",
        "For more information, visit the [project repository on GitHub](https://github.com/davy39/xeus-ocaml)."
      ]
    }
  ],
  "metadata": {
    "kernelspec": {
      "display_name": "ocaml 5.3.0 (xocaml)",
      "language": "ocaml",
      "name": "xocaml"
    },
    "language_info": {
      "codemirror_mode": "ocaml",
      "file_extension": ".ml",
      "mimetype": "text/x-ocaml",
      "name": "ocaml",
      "nbconvert_exporter": "",
      "pygments_lexer": "ocaml",
      "version": "5.2.0"
    }
  },
  "nbformat": 4,
  "nbformat_minor": 4
}
