{
  "metadata": {
    "kernelspec": {
      "name": "xcpp17",
      "display_name": "C++17",
      "language": "cpp"
    },
    "language_info": {
      "codemirror_mode": "text/x-c++src",
      "file_extension": ".cpp",
      "mimetype": "text/x-c++src",
      "name": "C++",
      "version": "17"
    }
  },
  "nbformat_minor": 5,
  "nbformat": 4,
  "cells": [
    {
      "id": "de8b4f7e-a077-4ae1-9575-cb75973b7f9a",
      "cell_type": "code",
      "source": "#include <iostream>\n\nint main(){\nstd::cout << \"Hello world\" << std::endl;\nstd::string s;\nstd::getline(std::cin, s);\nstd::cout << \"Ola, \" << s << std::endl;\n}\nmain();",
      "metadata": {
        "trusted": true
      },
      "outputs": [
        {
          "name": "stdout",
          "output_type": "stream",
          "text": "Hello world\n"
        },
        {
          "output_type": "stream",
          "name": "stdin",
          "text": " Dann\n"
        },
        {
          "name": "stdout",
          "output_type": "stream",
          "text": "Ola, Dann\n"
        }
      ],
      "execution_count": 2
    },
    {
      "id": "626b10ee-8bec-441c-a818-25c1936156ed",
      "cell_type": "code",
      "source": "",
      "metadata": {
        "trusted": true
      },
      "outputs": [],
      "execution_count": null
    }
  ]
}