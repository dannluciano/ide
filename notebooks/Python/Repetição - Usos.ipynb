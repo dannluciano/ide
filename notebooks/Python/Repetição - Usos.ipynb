{
  "metadata": {
    "kernelspec": {
      "name": "xpython",
      "display_name": "Python",
      "language": "python"
    },
    "language_info": {
      "file_extension": ".py",
      "mimetype": "text/x-python",
      "name": "python",
      "version": "3.13.1"
    }
  },
  "nbformat_minor": 5,
  "nbformat": 4,
  "cells": [
    {
      "id": "b276be01-2e29-412c-ac1d-dc078366ea24",
      "cell_type": "markdown",
      "source": "# Usos das Estruturas de Repetição",
      "metadata": {}
    },
    {
      "id": "6822671f-6529-4c6a-91a9-2e52001e58d8",
      "cell_type": "markdown",
      "source": "## Validação de Dados\n\nRepetir enquanto o dado entrado não for válido ",
      "metadata": {}
    },
    {
      "id": "4a902d3c-b886-42b9-9eb8-c420ba5cb415",
      "cell_type": "code",
      "source": "print(\"Programa Iniciando...\")\n\nidade = 0\nwhile idade < 12:\n    print(\"Digite sua Idade ( idade tem que ser >= 12 anos): \")\n    idade = int(input())\n\nprint(\"Sua idade é \", idade)\n\nprint(\"Saindo...\")\n",
      "metadata": {
        "trusted": true
      },
      "outputs": [],
      "execution_count": null
    },
    {
      "id": "208730fa-0ead-469b-96ac-117fc0eb50d4",
      "cell_type": "markdown",
      "source": "## Menu de Opções\n\nRepetir enquanto o cliente não digitar a opção de sair",
      "metadata": {}
    },
    {
      "id": "e7209397-f725-43bb-a37f-f349b4d16cea",
      "cell_type": "code",
      "source": "opcao = 1\nwhile opcao != \"0\":\n    print(\"|==============================|\")\n    print(\"|  =*=  Sistema de Loja  =*=   |\")\n    print(\"+------------------------------+\")\n    print(\"| 1 - Adicionar um Produto     |\")\n    print(\"| 2 - Buscar um Produto        |\")\n    print(\"| 3 - Listar todos os Produtos |\")\n    print(\"| 4 - Remover um Produto       |\")\n    print(\"| 0 - Sair                     |\")\n    print(\"|==============================|\")\n    print(\"Digite uma Opção\")\n    opcao = input()\n\n    if opcao == \"1\":\n        print(\"Adicionar um Produto.....\")\n        nome = input(\"Digite o nome do produto\")\n        preco = input(\"Digite o preço do produto\")\n\nprint(\"Saindo...\")",
      "metadata": {
        "trusted": true
      },
      "outputs": [],
      "execution_count": null
    },
    {
      "id": "2864d966-4929-442c-a1a6-508573879b8d",
      "cell_type": "markdown",
      "source": "## Game Loop\nRepetir enquanto o jogo não for finalizado",
      "metadata": {}
    },
    {
      "id": "7fedb88a-354a-4cd1-8503-83d50cd89d45",
      "cell_type": "code",
      "source": "jogo_acabou = False\nvencedor = \"\"\nc1=\"1\"\nc2=\"2\"\nc3=\"3\"\nc4=\"4\"\nc5=\"5\"\nc6=\"6\"\nc7=\"7\"\nc8=\"8\"\nc9=\"9\"\nwhile jogo_acabou == False:\n    print(\"=====\")\n    print(f\"{c1}|{c2}|{c3}\")\n    print(\"-+-+-\")\n    print(f\"{c4}|{c5}|{c6}\")\n    print(\"-+-+-\")\n    print(f\"{c7}|{c8}|{c9}\")\n    print(\"=====\")\n    print(\"Jogador 1, faça sua jogada\")\n    jogada = input()\n\n    if jogada == \"1\":\n        c1 = \"X\"\n    if jogada == \"2\":\n        c2 = \"X\"\n    if jogada == \"3\":\n        c3 = \"X\"\n    if jogada == \"4\":\n        c4 = \"X\"\n    if jogada == \"5\":\n        c5 = \"X\"\n    if jogada == \"6\":\n        c6 = \"X\"\n    if jogada == \"7\":\n        c7 = \"X\"\n    if jogada == \"8\":\n        c8 = \"X\"\n    if jogada == \"9\":\n        c9 = \"X\"\n\n    if c1 == c2 and c2 == c3:\n        jogo_acabou = True\n\n    if jogada == \"Desisto\":\n        jogo_acabou = True\n\nprint(\"Vencedor é: \", vencedor)",
      "metadata": {
        "trusted": true
      },
      "outputs": [
        {
          "name": "stdout",
          "output_type": "stream",
          "text": "=====\n1|2|3\n-+-+-\n4|5|6\n-+-+-\n7|8|9\n=====\nJogador 1, faça sua jogada\n"
        },
        {
          "output_type": "stream",
          "name": "stdin",
          "text": " 0\n"
        },
        {
          "name": "stdout",
          "output_type": "stream",
          "text": "=====\n1|2|3\n-+-+-\n4|5|6\n-+-+-\n7|8|9\n=====\nJogador 1, faça sua jogada\n"
        }
      ],
      "execution_count": null
    },
    {
      "id": "9577a671-76d6-4a24-b7e2-202c02468ddf",
      "cell_type": "markdown",
      "source": "## Efeitos",
      "metadata": {}
    },
    {
      "id": "cf523c26-2c9d-442a-a53d-9538ba5fcb06",
      "cell_type": "code",
      "source": "import time\n\nprint(\"Meu Programa Bolado\")\nprint(\"Iniciando\")\n\nwhile True:\n    contador = 0\n    while contador < 4:\n        if contador == 0:\n            print(\"\\rCarregando -\", end=\"\")\n        if contador == 1:\n            print(\"\\rCarregando \\\\\", end=\"\")\n        if contador == 2:\n            print(\"\\rCarregando |\", end=\"\")\n        if contador == 3:\n            print(\"\\rCarregando /\", end=\"\")\n        contador += 1\n        time.sleep(0.125)\n    \n",
      "metadata": {
        "trusted": true
      },
      "outputs": [],
      "execution_count": null
    }
  ]
}