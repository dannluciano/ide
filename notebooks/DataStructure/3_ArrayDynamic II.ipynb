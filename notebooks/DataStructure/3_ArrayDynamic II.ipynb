{
  "metadata": {
    "kernelspec": {
      "name": "xcpp23",
      "display_name": "C++23",
      "language": "cpp"
    },
    "language_info": {
      "codemirror_mode": "text/x-c++src",
      "file_extension": ".cpp",
      "mimetype": "text/x-c++src",
      "name": "C++",
      "version": "23"
    }
  },
  "nbformat_minor": 5,
  "nbformat": 4,
  "cells": [
    {
      "id": "a1d24260-9adc-4a19-a23e-12851568398d",
      "cell_type": "markdown",
      "source": "# Arranjos Dinâmicos",
      "metadata": {}
    },
    {
      "id": "0e35566a-00ea-4210-ab97-325aa9d7cae2",
      "cell_type": "code",
      "source": "#include <stdlib.h>\n#include <stdio.h>\n#include <stdbool.h>\n\nconst size_t ARRAY_INITIAL_CAPACITY = 10;\n\ntypedef struct array {\n    int *data;\n    size_t length; \n    size_t capacity;\n} array_t;\n\narray_t* array_create(size_t capacity); // ok\nsize_t array_length(array_t *self); // ok\nsize_t array_capacity(array_t *self); // ok\nvoid array_delete(array_t *self); // ok\nint array_at(array_t *self, size_t index); // ok\nvoid array_push(array_t *self, int data); // ok\nvoid array_insert(array_t *self, int item, size_t index);\nint array_remove_at(array_t *self, size_t index);\nint array_remove(array_t *self, int o, bool all);\narray_t *array_clone(array_t *self);\nbool array_equals(array_t *a, array_t *b);\nvoid array_sort(array_t *self, int (*cmp)(int, int));\nvoid array_print(array_t *self); // ok",
      "metadata": {
        "trusted": true
      },
      "outputs": [],
      "execution_count": 1
    },
    {
      "id": "d6e29195-482d-4b40-a44a-734bb7d1328b",
      "cell_type": "code",
      "source": "void array_print(array_t *self) {\n    printf(\"Array{\\n\\tlength: %zu,\\n\\tcapacity: %zu, \\n\\tdata: [\", self->length, self->capacity);\n    for(size_t i = 0; i < self->length; i++) {\n        printf(\"%d , \", self->data[i]);\n    }\n    printf(\"]\\n}\\n\");\n}",
      "metadata": {
        "trusted": true
      },
      "outputs": [],
      "execution_count": 2
    },
    {
      "id": "04903262-726a-4c24-977d-0a0cc9f28931",
      "cell_type": "code",
      "source": "array_t* array_create(size_t capacity) {\n    int *data = (int*) calloc(capacity, sizeof(int));\n    if (data == NULL) {\n        perror(\"calloc falhou\");\n        exit(EXIT_FAILURE);\n    }\n    array_t *array = (array_t*) malloc(sizeof(array_t));\n    if (array == NULL) {\n        perror(\"malloc falhou\");\n        exit(EXIT_FAILURE);\n    }\n    array->data = data;\n    array->length = 0;\n    array->capacity = capacity;\n    \n    return array;\n}",
      "metadata": {
        "trusted": true
      },
      "outputs": [],
      "execution_count": 3
    },
    {
      "id": "30970f8f-1779-4820-87b5-dd8255c01847",
      "cell_type": "code",
      "source": "array_t* vetor = array_create(10);\narray_print(vetor);",
      "metadata": {
        "trusted": true
      },
      "outputs": [
        {
          "name": "stdout",
          "output_type": "stream",
          "text": "Array{\n\tlength: 0,\n\tcapacity: 10, \n\tdata: []\n}\n"
        }
      ],
      "execution_count": 4
    },
    {
      "id": "2603bfef-467d-4c4a-8352-f8bf5a086e4b",
      "cell_type": "code",
      "source": "void array_push(array_t *self, int item) {\n    if (self->length == self->capacity) {\n        // preciso aumentar o tamanho do vetor\n        size_t nova_capacidade = self->capacity*2;\n        int *novo_data = (int*) realloc(self->data, nova_capacidade * sizeof(int));\n        if (novo_data == NULL) {\n            perror(\"realloc falhou\");\n            exit(EXIT_FAILURE);\n        }\n        self->data = novo_data;\n        self->capacity = nova_capacidade;\n    } \n    self->data[self->length] = item;\n    self->length++;\n}",
      "metadata": {
        "trusted": true
      },
      "outputs": [],
      "execution_count": 5
    },
    {
      "id": "42689873-b2ed-4898-b714-4ee18f1b736c",
      "cell_type": "code",
      "source": "array_push(vetor, 3);\narray_print(vetor);",
      "metadata": {
        "trusted": true
      },
      "outputs": [
        {
          "name": "stdout",
          "output_type": "stream",
          "text": "Array{\n\tlength: 1,\n\tcapacity: 10, \n\tdata: [3 , ]\n}\n"
        }
      ],
      "execution_count": 6
    },
    {
      "id": "35d107f7-82c4-4cd7-977b-dd23eddc005e",
      "cell_type": "code",
      "source": "array_push(vetor, 7);\narray_push(vetor, 10);\narray_push(vetor, 4);\narray_push(vetor, 25);\narray_push(vetor, 18);\narray_push(vetor, 30);\narray_push(vetor, 32);\narray_push(vetor, 80);\narray_push(vetor, 23);\narray_print(vetor);",
      "metadata": {
        "trusted": true
      },
      "outputs": [
        {
          "name": "stdout",
          "output_type": "stream",
          "text": "Array{\n\tlength: 10,\n\tcapacity: 10, \n\tdata: [3 , 7 , 10 , 4 , 25 , 18 , 30 , 32 , 80 , 23 , ]\n}\n"
        }
      ],
      "execution_count": 7
    },
    {
      "id": "50875dbd-99fa-4298-95ec-a8f7fecd16e0",
      "cell_type": "code",
      "source": "array_push(vetor, 777);\narray_push(vetor, 12);\narray_print(vetor);",
      "metadata": {
        "trusted": true
      },
      "outputs": [
        {
          "name": "stdout",
          "output_type": "stream",
          "text": "Array{\n\tlength: 12,\n\tcapacity: 20, \n\tdata: [3 , 7 , 10 , 4 , 25 , 18 , 30 , 32 , 80 , 23 , 777 , 12 , ]\n}\n"
        }
      ],
      "execution_count": 8
    },
    {
      "id": "3b818684-fb07-4478-aab1-b079d26b7a5c",
      "cell_type": "code",
      "source": "void array_print_descritors(array_t* self) {\n    printf(\"Array{\\n\\tlength: %zu,\\n\\tcapacity: %zu\\n}\\n\", self->length, self->capacity);\n}\n\n// for (size_t i = 0; i < 20000; i++) {\n//     array_push(vetor, i);\n//     array_print_descritors(vetor);\n// }\n",
      "metadata": {
        "trusted": true
      },
      "outputs": [],
      "execution_count": 9
    },
    {
      "id": "5983e82c-05e7-4cd4-acec-1e19f76f1d21",
      "cell_type": "code",
      "source": "void array_delete(array_t *self) {\n    free(self->data);\n    free(self);\n}",
      "metadata": {
        "trusted": true
      },
      "outputs": [],
      "execution_count": 10
    },
    {
      "id": "3b1c51ad-a5b0-4a92-a6b9-fc727439f367",
      "cell_type": "code",
      "source": "array_delete(vetor);",
      "metadata": {
        "trusted": true
      },
      "outputs": [],
      "execution_count": 11
    },
    {
      "id": "51ba22a9-5df2-472d-93ad-19c41d039eb1",
      "cell_type": "code",
      "source": "size_t array_length(array_t *self) {\n    return self->length;\n}\n\nsize_t array_capacity(array_t *self) {\n    return self->capacity;\n}",
      "metadata": {
        "trusted": true
      },
      "outputs": [],
      "execution_count": 12
    },
    {
      "id": "9d983dc6-1cfd-4bc7-aa2f-7468f58267ab",
      "cell_type": "code",
      "source": "vetor = array_create(10);\nprintf(\"Tamanho: %zu\\n\", array_length(vetor));\nprintf(\"Capacidade: %zu\\n\", array_capacity(vetor));",
      "metadata": {
        "trusted": true
      },
      "outputs": [
        {
          "name": "stdout",
          "output_type": "stream",
          "text": "Tamanho: 0\nCapacidade: 10\n"
        }
      ],
      "execution_count": 13
    },
    {
      "id": "87898993-0ae9-4c18-a5a7-a20838ac8e9b",
      "cell_type": "code",
      "source": "int array_at(array_t *self, size_t index) {\n    if (index >= 0 && index < self->length) {\n        return self->data[index];\n    }\n    perror(\"Index out of bounds\");\n    exit(EXIT_FAILURE);\n}",
      "metadata": {
        "trusted": true
      },
      "outputs": [],
      "execution_count": 14
    },
    {
      "id": "cf84273d-25e5-4d6c-9ace-acea184338a0",
      "cell_type": "code",
      "source": "array_push(vetor, 3);\nprintf(\"Elmento na posição [0]: %d\\n\", array_at(vetor, 0));",
      "metadata": {
        "trusted": true
      },
      "outputs": [
        {
          "name": "stdout",
          "output_type": "stream",
          "text": "Elmento na posição [0]: 3\n"
        }
      ],
      "execution_count": 15
    },
    {
      "id": "69e3f4cd-d72b-46e6-9eb0-e47bc2438d8d",
      "cell_type": "code",
      "source": "void array_insert(array_t *self, int item, size_t index) {\n    if (self->length == self->capacity) {\n        // preciso aumentar o tamanho do vetor\n        size_t nova_capacidade = self->capacity*2;\n        int *novo_data = (int*) realloc(self->data, nova_capacidade * sizeof(int));\n        if (novo_data == NULL) {\n            perror(\"realloc falhou\");\n            exit(EXIT_FAILURE);\n        }\n        self->data = novo_data;\n        self->capacity = nova_capacidade;\n        for (size_t i = self->length; i < self->capacity; i++) {\n            novo_data[i] = 0;\n        }\n    }\n    if (index > self->length) {\n        index = self->length;\n    }\n    for(size_t i = self->length; i > index; i--){\n        self->data[i] = self->data[i-1];\n        array_print(self);\n    }\n    self->data[index] = item;\n    self->length++;\n}",
      "metadata": {
        "trusted": true
      },
      "outputs": [],
      "execution_count": 16
    },
    {
      "id": "e30b8764-f605-4993-ab52-5817d87e2c6e",
      "cell_type": "code",
      "source": "array_push(vetor,7);\narray_push(vetor,4);\narray_push(vetor,5);\narray_print(vetor);\nprintf(\"Inicio Insert\\n\");\narray_insert(vetor, 14, 0);\nprintf(\"Fim Insert\\n\");\narray_print(vetor);",
      "metadata": {
        "trusted": true
      },
      "outputs": [
        {
          "name": "stdout",
          "output_type": "stream",
          "text": "Array{\n\tlength: 4,\n\tcapacity: 10, \n\tdata: [3 , 7 , 4 , 5 , ]\n}\nInicio Insert\nArray{\n\tlength: 4,\n\tcapacity: 10, \n\tdata: [3 , 7 , 4 , 5 , ]\n}\nArray{\n\tlength: 4,\n\tcapacity: 10, \n\tdata: [3 , 7 , 4 , 4 , ]\n}\nArray{\n\tlength: 4,\n\tcapacity: 10, \n\tdata: [3 , 7 , 7 , 4 , ]\n}\nArray{\n\tlength: 4,\n\tcapacity: 10, \n\tdata: [3 , 3 , 7 , 4 , ]\n}\nFim Insert\nArray{\n\tlength: 5,\n\tcapacity: 10, \n\tdata: [14 , 3 , 7 , 4 , 5 , ]\n}\n"
        }
      ],
      "execution_count": 17
    },
    {
      "id": "20b537e6-dda3-4d93-a5da-095db5f4d669",
      "cell_type": "code",
      "source": "array_insert(vetor, 21, 5);\narray_print(vetor);\n\narray_insert(vetor, 200, 5000);\narray_print(vetor);\n\narray_insert(vetor, 300, 5000);\narray_insert(vetor, 400, 5000);\narray_insert(vetor, 500, 5000);\narray_print(vetor);\narray_insert(vetor, 600, 5000);\narray_print(vetor);",
      "metadata": {
        "trusted": true
      },
      "outputs": [
        {
          "name": "stdout",
          "output_type": "stream",
          "text": "Array{\n\tlength: 6,\n\tcapacity: 10, \n\tdata: [14 , 3 , 7 , 4 , 5 , 21 , ]\n}\nArray{\n\tlength: 7,\n\tcapacity: 10, \n\tdata: [14 , 3 , 7 , 4 , 5 , 21 , 200 , ]\n}\nArray{\n\tlength: 10,\n\tcapacity: 10, \n\tdata: [14 , 3 , 7 , 4 , 5 , 21 , 200 , 300 , 400 , 500 , ]\n}\nArray{\n\tlength: 11,\n\tcapacity: 20, \n\tdata: [14 , 3 , 7 , 4 , 5 , 21 , 200 , 300 , 400 , 500 , 600 , ]\n}\n"
        }
      ],
      "execution_count": 18
    },
    {
      "id": "82de4251-5edd-4934-9b3d-b09fea4043c3",
      "cell_type": "code",
      "source": "",
      "metadata": {
        "trusted": true
      },
      "outputs": [],
      "execution_count": null
    }
  ]
}