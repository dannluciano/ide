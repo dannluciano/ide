{
  "metadata": {
    "kernelspec": {
      "name": "xcpp17",
      "display_name": "C++17",
      "language": "cpp"
    },
    "language_info": {
      "codemirror_mode": "text/x-c++src",
      "file_extension": ".cpp",
      "mimetype": "text/x-c++src",
      "name": "C++",
      "version": "17"
    }
  },
  "nbformat_minor": 5,
  "nbformat": 4,
  "cells": [
    {
      "id": "d3b6b073-7bfe-4d77-83c1-53e9becda447",
      "cell_type": "markdown",
      "source": "# Definição de Tipos",
      "metadata": {}
    },
    {
      "id": "d72e215b-34cd-4e18-bd7b-f2c445a0f9b7",
      "cell_type": "code",
      "source": "#include <stdio.h>\n#include <string.h>\n\n// #define dinheiro int\n\ntypedef int dinheiro;\n\n\ndinheiro valor = 100;",
      "metadata": {
        "trusted": true
      },
      "outputs": [],
      "execution_count": 1
    },
    {
      "id": "f117ec9a-a9c0-4302-93d6-b3b4797d45ba",
      "cell_type": "code",
      "source": "printf(\"%d\", valor);",
      "metadata": {
        "trusted": true
      },
      "outputs": [
        {
          "name": "stdout",
          "output_type": "stream",
          "text": "100"
        }
      ],
      "execution_count": 2
    },
    {
      "id": "6c5dd4a2-9f89-4003-a81d-a13a8d8d37f4",
      "cell_type": "code",
      "source": "typedef struct data {\n    unsigned dia;\n    unsigned mes;\n    int ano;\n} data_t;\n\nstruct data hoje = { .dia=2, .mes=10, .ano=2025};\n\ndata_t amanha = {.dia=hoje.dia +1, .mes=hoje.mes, .ano=hoje.ano};\n",
      "metadata": {
        "trusted": true
      },
      "outputs": [],
      "execution_count": 3
    },
    {
      "id": "aeb52b2b-dc7d-4883-9a77-c32087adeb58",
      "cell_type": "code",
      "source": "hoje",
      "metadata": {
        "trusted": true
      },
      "outputs": [],
      "execution_count": 4
    },
    {
      "id": "37d652ca-f9a7-4a6f-b62e-6c0b373168d3",
      "cell_type": "code",
      "source": "amanha",
      "metadata": {
        "trusted": true
      },
      "outputs": [],
      "execution_count": 5
    },
    {
      "id": "f5c143e0-85b3-4517-bf77-3190738ea421",
      "cell_type": "markdown",
      "source": "# Enumerações",
      "metadata": {}
    },
    {
      "id": "a9ef2b55-3d28-4ff4-b665-0e0bd8096f59",
      "cell_type": "code",
      "source": "typedef enum sexo {\n    Feminino=0, Masculino=1, Nao_Declarado\n} sexo_t;\n\ntypedef enum tamanho {\n    PP=1, P=10, M=100, G=1000, GG=10000, XXG=100000\n} tamanho_t;\n\ntypedef struct usuario {\n    char nome[255];\n    sexo_t sexo;\n    int idade;\n} usuario_t;\n\nusuario_t eu = {.nome=\"Dann\", .sexo=Nao_Declarado, .idade=37 };\nusuario_t alan = {.nome=\"Alan\", .sexo=Masculino, .idade=20 };\n",
      "metadata": {
        "trusted": true
      },
      "outputs": [],
      "execution_count": 6
    },
    {
      "id": "199c3d9c-5e24-483b-91c9-f9f7178670bc",
      "cell_type": "markdown",
      "source": "# Funções",
      "metadata": {}
    },
    {
      "id": "f153ec66-2584-41b4-bd35-b941ed9110dc",
      "cell_type": "code",
      "source": "void imprime_usuario(usuario_t usuario){\n    printf(\"Nome: %s, Sexo: \", usuario.nome);\n    char str_sexo[12];\n    if (usuario.sexo == Masculino) {\n        printf(\"Masculino\");\n    } else if  (usuario.sexo == Feminino) {\n        printf(\"Feminino\");\n    } else {\n        printf(\"Não Definido\");\n    }\n    printf(\", Idade: %d\\n\", usuario.idade);\n}",
      "metadata": {
        "trusted": true
      },
      "outputs": [],
      "execution_count": 7
    },
    {
      "id": "93e6f4df-8cf0-4a1c-b107-f1965eef214b",
      "cell_type": "code",
      "source": "imprime_usuario(alan);",
      "metadata": {
        "trusted": true
      },
      "outputs": [
        {
          "name": "stdout",
          "output_type": "stream",
          "text": "Nome: Alan, Sexo: Masculino, Idade: 20\n"
        }
      ],
      "execution_count": 8
    },
    {
      "id": "e328ce97-bcf9-4a0e-b9f9-f9c7f4cd6164",
      "cell_type": "code",
      "source": "usuario_t cria_usuario(char nom[255], sexo_t sex, int idade) {\n    usuario_t novo = {.sexo=sex, .idade=idade };\n    strcpy(novo.nome, nom);\n    return novo;\n}",
      "metadata": {
        "trusted": true
      },
      "outputs": [],
      "execution_count": 9
    },
    {
      "id": "a2eec6ca-ac1e-4cb3-a000-dfba3f68d871",
      "cell_type": "code",
      "source": "usuario_t sab = cria_usuario(\"Sab\", Feminino, 19);\nimprime_usuario(sab);",
      "metadata": {
        "trusted": true
      },
      "outputs": [
        {
          "name": "stdout",
          "output_type": "stream",
          "text": "Nome: Sab, Sexo: Feminino, Idade: 19\n"
        }
      ],
      "execution_count": 10
    },
    {
      "id": "5dbb2a64-ef7d-48e1-b919-014f2a5a1060",
      "cell_type": "code",
      "source": "void troca_sexo(usuario_t *usuario, sexo_t novo_sexo) {\n    puts(\"--------\");\n    imprime_usuario(*usuario);\n    usuario->sexo = novo_sexo; // (*usuario).sexo = novo_sexo;\n    imprime_usuario(*usuario);\n    puts(\"--------\");\n}\n\nimprime_usuario(alan);\ntroca_sexo(&alan, Nao_Declarado);\nimprime_usuario(alan);",
      "metadata": {
        "trusted": true
      },
      "outputs": [
        {
          "name": "stdout",
          "output_type": "stream",
          "text": "Nome: Alan, Sexo: Masculino, Idade: 20\n--------\nNome: Alan, Sexo: Masculino, Idade: 20\nNome: Alan, Sexo: Não Definido, Idade: 20\n--------\nNome: Alan, Sexo: Não Definido, Idade: 20\n"
        }
      ],
      "execution_count": 11
    },
    {
      "id": "1079068c-9e9c-492c-a444-c2bf401157a8",
      "cell_type": "code",
      "source": "int num;\nscanf(\"%d\", &num);",
      "metadata": {
        "trusted": true
      },
      "outputs": [],
      "execution_count": null
    }
  ]
}