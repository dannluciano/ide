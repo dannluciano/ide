{
  "metadata": {
    "kernelspec": {
      "name": "xcpp23",
      "display_name": "C++23",
      "language": "cpp"
    },
    "language_info": {
      "codemirror_mode": "text/x-c++src",
      "file_extension": ".cpp",
      "mimetype": "text/x-c++src",
      "name": "C++",
      "version": "23"
    }
  },
  "nbformat_minor": 5,
  "nbformat": 4,
  "cells": [
    {
      "id": "ba4e58c6-63b3-4380-939d-8fdb66e90970",
      "cell_type": "markdown",
      "source": "# Filas\n\nA estrutura de dados fila (queue) segue o princípio FIFO (First In, First Out), onde o primeiro elemento inserido é o primeiro a ser removido. Esse comportamento modela naturalmente situações de espera e processamento em ordem.\n\n## FIFO (First In, First Out)\n\n## Operações:\n\n### ENQUEUE (Q, x) -> void O(1)\n\n```c++\nQ[Q.fim] = x;\nif (Q.fim == Q.comprimento) {\n    Q.fim = 0;\n} else {\n    Q.fim +=1 ;\n}\n```\n\n### DEQUEUE (Q) -> x O(1)\n\n```c++\nx = Q[Q.inicio];\nif (Q.inicio == Q.comprimento) {\n    Q.inicio = 1;\n} else {\n    Q.inicio += 1;\n}\nreturn x;\n```\n\n### EMPTY (Q) -> bool O(1)\n\n```c++\nreturn (Q.inicio == Q.fim) \n```",
      "metadata": {}
    },
    {
      "id": "a3b13659-7c10-4e26-90f3-5c093ac46dc2",
      "cell_type": "code",
      "source": "#include <stdlib.h>\n#include <stdio.h>\n#include <stdbool.h>\n\nconst unsigned QUEUE_MAX_SIZE = 10;\n\ntypedef struct queue {\n    int data[QUEUE_MAX_SIZE];\n    unsigned tail; /* O indice do ultimo elemento da fila */\n} queue_t;\n\nqueue_t queue_create(){\n    queue_t novo = {.data = {0}, .tail = 0};\n    return novo;\n}\n\nvoid queue_enqueue(queue_t *queue, int item) {\n    queue->data[queue->tail] = item;\n    (*queue).tail += 1; // queue->tail = queue->tail + 1; // queue->tail++\n    \n}\n\nint queue_dequeue(queue_t *queue) {\n    int dado = queue->data[0];\n    for (size_t i = 0; i < queue->tail; i++) {\n        queue->data[i] = queue->data[i + 1];\n    }\n    queue->tail -= 1; // --\n    return dado;\n}\n\nbool queue_is_empty(queue_t queue) {\n    return queue.tail == 0;\n}\n\nbool queue_is_full(queue_t queue) {\n    return queue.tail == QUEUE_MAX_SIZE;\n}\n\nvoid queue_print(queue_t queue) {\n    printf(\"Queue{\\n tail: %u, \\n  data: [\", queue.tail);\n    for(size_t i = 0; i < QUEUE_MAX_SIZE; i++) {\n        printf(\"%d , \", queue.data[i]);\n    }\n    printf(\"]\\n}\\n\");\n}\n\nqueue_t fila = queue_create();\n\nqueue_print(fila);\n\nqueue_enqueue(&fila, 3);\nqueue_enqueue(&fila, 7);\nqueue_enqueue(&fila, 4);\nqueue_enqueue(&fila, 8);\nqueue_enqueue(&fila, 9);\n\nqueue_print(fila);\n\nint num = queue_dequeue(&fila);\nprintf(\"%d\\n\", num);\nqueue_print(fila);\n\nqueue_dequeue(&fila);\nqueue_dequeue(&fila);\nqueue_dequeue(&fila);\nqueue_dequeue(&fila);\nqueue_dequeue(&fila);\n\nqueue_print(fila);",
      "metadata": {
        "trusted": true
      },
      "outputs": [
        {
          "name": "stdout",
          "output_type": "stream",
          "text": "Queue{\n tail: 0, \n  data: [0 , 0 , 0 , 0 , 0 , 0 , 0 , 0 , 0 , 0 , ]\n}\nQueue{\n tail: 5, \n  data: [3 , 7 , 4 , 8 , 9 , 0 , 0 , 0 , 0 , 0 , ]\n}\n3\nQueue{\n tail: 4, \n  data: [7 , 4 , 8 , 9 , 0 , 0 , 0 , 0 , 0 , 0 , ]\n}\nQueue{\n tail: -1, \n  data: [0 , 0 , 0 , 0 , 0 , 0 , 0 , 0 , 0 , 0 , ]\n}\n"
        }
      ],
      "execution_count": 1
    },
    {
      "id": "333c129d-6349-48ee-b601-1ba5e05f9940",
      "cell_type": "markdown",
      "source": "## Exemplos clássicos na computação\n\n- Fila de impressão:\n\n  Documentos enviados para a impressora entram na fila e são processados na ordem de chegada.\n\n- Gerenciamento de processos em sistemas operacionais:\n\n  Processos aguardam sua vez na fila de prontos para execução pelo processador.\n\n  - [Man Pages](https://man7.org/linux/man-pages/man1/ps.1.html)\n  - [Linux Kernel](https://docs.kernel.org/core-api/workqueue.html)\n\n- Buffer de dados em I/O:\n\n  Em sistemas de streaming ou redes, dados que chegam são enfileirados antes de serem processados.\n\n  [Linux Kernel](https://docs.kernel.org/block/blk-mq.html)\n\n- Atendimento em servidores (fila de requisições):\n\n  Um servidor web enfileira requisições para processá-las em ordem. [Nginx](https://nginx.org/en/docs/ngx_core_module.html#thread_pool)\n\n  ![Nginx](https://miro.medium.com/v2/resize:fit:400/format:webp/1*k3f3nEWAypvUlcGCHNJYgQ.png)\n \n```nginx\nSyntax: \tthread_pool name threads=number [max_queue=number];\nDefault: \t\n\nthread_pool default threads=32 max_queue=65536;\n\nContext: \tmain\n\nThis directive appeared in version 1.7.11. \n\n```\n\n- Simulação de filas reais (modelagem de sistemas):\n\n  Usado para estudar sistemas como filas de banco, supermercados, hospitais etc.\n\n\n## Exemplos em algoritmos\n\n- Busca em largura (BFS):\n\n    Algoritmo de grafos que explora vizinhos nível a nível, usando uma fila para controlar os nós visitados.\n\n\n- Sistemas de escalonamento com prioridade igual:\n\n    Quando não há prioridade, processos são tratados por ordem de chegada usando fila simples.\n\n\n- Produção e consumo (Producer-Consumer problem):\n\n    Threads produtoras inserem itens na fila, e threads consumidoras retiram em ordem.",
      "metadata": {}
    },
    {
      "id": "a5b0ac47-5a62-4a2c-bbeb-7a75851b50ed",
      "cell_type": "markdown",
      "source": "## Exercícios",
      "metadata": {},
      "attachments": {}
    },
    {
      "id": "85fbfd3f-3086-41fc-bf3a-c5412d4cb8d1",
      "cell_type": "markdown",
      "source": "1. Considerando uma fila vazia, ilustre o resultado de cada operação na sequência ENQUEUE(Q, 4), ENQUEUE(Q, 1), ENQUEUE(Q, 3), DEQUEUE(Q), ENQUEUE(Q, 8) e DEQUEUE(Q) em uma fila Q inicialmente vazia armazenada no arranjo Q[1 .. 6].",
      "metadata": {}
    },
    {
      "id": "7e92c1e3-dd2a-47c2-858b-40192799660c",
      "cell_type": "markdown",
      "source": "",
      "metadata": {}
    },
    {
      "id": "298222b1-edef-4178-bc87-f5acecad46e9",
      "cell_type": "markdown",
      "source": "2. Reescreva ENQUEUE e DEQUEUE para detectar o estouro negativo e o estouro de uma fila. Imprimindo a mensagem (*Queue Overflow* ou *Queue Underflow*) na saída de erro padrão do sistema operacional.",
      "metadata": {}
    },
    {
      "id": "9d6697ab-663f-4a6f-8571-31eb129ef3ac",
      "cell_type": "markdown",
      "source": "",
      "metadata": {}
    },
    {
      "id": "b5d38210-2e3f-45c8-ae3f-dd5cc724bbc4",
      "cell_type": "markdown",
      "source": "3. Enquanto uma pilha permite inserção e eliminação de elementos em apenas uma extremidade e uma fila permite inserção em uma extremidade e eliminação na outra extremidade, uma deque (double-ended queue, ou fila de extremidade dupla) permite inserção e eliminação em ambas as extremidades. Escreva quatro procedimentos de tempo O(1) para inserir elementos e eliminar elementos de ambas as extremidades de uma deque construída a partir de um arranjo.",
      "metadata": {}
    },
    {
      "id": "5964ca5d-c132-475c-8944-d12ccba079e4",
      "cell_type": "code",
      "source": "",
      "metadata": {
        "trusted": true
      },
      "outputs": [],
      "execution_count": null
    },
    {
      "id": "76724a22-42fc-4ff0-93fd-7068b9dad970",
      "cell_type": "markdown",
      "source": "4. Implemente as operações de *ENQUEUE* e *DEQUEUE* em tempo computacional de O(1). Reescreva o Registro de *queue_t* utilizando *tail* e *head* para guardarem os índices do início e fim da fila.",
      "metadata": {}
    },
    {
      "id": "ee8506fa-40e2-49ae-9ef9-281ba8280f47",
      "cell_type": "code",
      "source": "",
      "metadata": {
        "trusted": true
      },
      "outputs": [],
      "execution_count": null
    }
  ]
}