{
  "metadata": {
    "kernelspec": {
      "name": "xcpp23",
      "display_name": "C++23",
      "language": "cpp"
    },
    "language_info": {
      "codemirror_mode": "text/x-c++src",
      "file_extension": ".cpp",
      "mimetype": "text/x-c++src",
      "name": "C++",
      "version": "23"
    }
  },
  "nbformat_minor": 5,
  "nbformat": 4,
  "cells": [
    {
      "id": "93adcdeb-51be-41b8-ba5e-d84f008cf1c4",
      "cell_type": "markdown",
      "source": "# Pilhas\n\nA estrutura de dados pilha (stack) segue o princípio LIFO (Last In, First Out), onde o último elemento inserido é o primeiro a ser removido.\n\n## LIFO (Last-In, First Out)\n\n## Operações:\n\n### PUSH (S, x) -> void  O(1)\n```c++\nS.top += 1;\nreturn S[S.top] = x\n```\n\n### POP (S) -> x         O(1)\n\n```c++\nS.top -= 1;\nreturn S[S.top+1]\n```\n\n### EMPTY (S) -> bool    O(1)\n\n```c++\nif (S.top == 0){\n    return true;\n} else {\n    return false;\n}\n```\n",
      "metadata": {},
      "attachments": {}
    },
    {
      "id": "3f59a70c-0dd3-48e6-8dcb-79a48742d2c9",
      "cell_type": "code",
      "source": "#include <stdlib.h>\n#include <stdio.h>\n#include <stdbool.h>\n\n// #define STACK_MAX_SIZE 10\nconst int STACK_MAX_SIZE = 10;\n\ntypedef struct stack {\n    int data[STACK_MAX_SIZE];\n    size_t top;\n} stack_t;\n\nstack_t stack_create(){\n    stack_t new_stack = {.data = {0}, .top=0};\n    return new_stack;\n}\n\nvoid stack_push(stack_t *stack, int item) {\n    stack->top+=1;\n    stack->data[stack->top] = item;\n}\n\nint stack_pop(stack_t *stack) {\n    stack->top -= 1;\n    return stack->data[stack->top+1];\n}\n\nbool stack_is_empty(stack_t stack) {\n    if (stack.top == 0) {\n        return true;\n    } else {\n        return false;\n    }\n}\n\nvoid stack_print(stack_t stack) {\n    printf(\"Stack{\\n  Top: %u, \\n  Data: [\", stack.top);\n    for(size_t i = 0; i < stack.top; i++) {\n        printf(\"%d | \", stack.data[i]);\n    }\n    printf(\"]\\n}\\n\");\n}\n\nstack_t pilha = stack_create();\nbool pilha_esta_vazia;\npilha_esta_vazia = stack_is_empty(pilha);\nprintf(\"%s\\n\", pilha_esta_vazia ? \"Vazia\" : \"Não esta vazia\");\n\nstack_push(&pilha, 5);\nstack_push(&pilha, 10);\nstack_push(&pilha, 8);\nstack_push(&pilha, 3);\nstack_push(&pilha, 7);\n\nstack_print(pilha);\n\nint item = stack_pop(&pilha);\nprintf(\"%d\\n\", item);\n\nstack_push(&pilha, 2);\n\nstack_print(pilha);\n\nstack_pop(&pilha);\nstack_pop(&pilha);\nstack_pop(&pilha);\nstack_pop(&pilha);\nstack_print(pilha);\n\npilha_esta_vazia = stack_is_empty(pilha);\nprintf(\"%s\\n\", pilha_esta_vazia ? \"Vazia\" : \"Não esta vazia\");",
      "metadata": {
        "trusted": true
      },
      "outputs": [
        {
          "name": "stdout",
          "output_type": "stream",
          "text": "Vazia\nStack{\n  Top: 5, \n  Data: [0 | 5 | 10 | 8 | 3 | ]\n}\n7\nStack{\n  Top: 5, \n  Data: [0 | 5 | 10 | 8 | 3 | ]\n}\nStack{\n  Top: 1, \n  Data: [0 | ]\n}\nNão esta vazia\n"
        }
      ],
      "execution_count": 1
    },
    {
      "id": "09899244-d1d0-4259-b3f5-d1112d101cc6",
      "cell_type": "markdown",
      "source": "## Exemplos clássicos na computação:\n\n- Controle de chamadas de funções (*Call Stack*):\n    - Quando uma função chama outra, a função atual é empilhada.\n    - Ao terminar a execução, é removida da pilha e o fluxo retorna corretamente.\n\n\n- Desfazer/Refazer em editores (*Undo/Redo*):\n    - Cada ação feita é colocada em uma pilha.\n    - Para desfazer, remove-se a última ação.\n    - Para refazer, usa-se outra pilha auxiliar.\n\n\n- Navegação em navegadores (*Back/Forward*):\n    - Cada página visitada vai para a pilha.\n    - O botão \"voltar\" desempilha a página atual e mostra a anterior.\n\n\n- Avaliação de expressões (notação pós-fixa ou infixa):\n    - Usada em compiladores e interpretadores para calcular expressões matemáticas.\n\n\n- *Parsing* de linguagens (compiladores e interpretadores):\n    - Pilhas são usadas para verificar a correção de parênteses, colchetes e chaves.\n    - Também ajudam no processo de análise sintática.\n\n\n## Exemplos em algoritmos e problemas\n\n- Busca em profundidade (*DFS*):\n    - A pilha armazena nós visitados para explorar mais profundamente antes de retroceder.\n\n- Resolução de labirintos e *backtracking*:\n    - Cada movimento é empilhado.\n    - Caso chegue a um beco sem saída, desempilha para voltar ao último ponto válido.\n\n- Conversão de base numérica:\n    - Para converter um número decimal em binário, restos de divisões são empilhados e depois lidos na ordem inversa.\n\n- Controle de chamadas recursivas simuladas:\n    - Se não há recursão real, uma pilha pode ser usada para simular o fluxo.",
      "metadata": {}
    },
    {
      "id": "b2362dec-9851-410a-adb1-87a07be827a6",
      "cell_type": "markdown",
      "source": "## Exercícios\n\n",
      "metadata": {},
      "attachments": {}
    },
    {
      "id": "094fde19-2dbf-4421-8739-f5ac915ce66a",
      "cell_type": "markdown",
      "source": "1. Considerando uma pilha vazia, ilustre o resultado de cada operação na sequência PUSH(S, 4), PUSH(S, 1), PUSH(S, 3), POP(S), PUSH(S, 8) e POP(S) sobre uma pilha S inicialmente vazia armazenada no arranjo S[1 .. 6].",
      "metadata": {}
    },
    {
      "id": "49f09c3d-d66d-401b-bd42-bbec912683c7",
      "cell_type": "markdown",
      "source": "",
      "metadata": {}
    },
    {
      "id": "c8cde553-080f-4674-92cd-ad404e5ae96c",
      "cell_type": "markdown",
      "source": "2. Explique como implementar duas pilhas em um único arranjo A[1 .. n] de tal modo que nenhuma delas sofra um estouro a menos que o número total de elementos em ambas as pilhas juntas seja n. As operações PUSH e POP devem ser executadas no tempo O(1).",
      "metadata": {}
    },
    {
      "id": "68e381dd-8107-41a5-aab2-fc8f42d0052a",
      "cell_type": "markdown",
      "source": "",
      "metadata": {}
    },
    {
      "id": "6a30ab8f-0d49-45cd-a376-c586f8d9c702",
      "cell_type": "markdown",
      "source": "3. Implemente o comportamento de *Stack Overflow* e de *Stack Underflow*. Imprimindo uma mensagem (*Stack Overflow* ou *Stack Underflow*) na saída de erro padrão do sistema operacional.",
      "metadata": {}
    },
    {
      "id": "a5fe3302-545b-4384-8c21-6afff68f3125",
      "cell_type": "code",
      "source": "",
      "metadata": {
        "trusted": true
      },
      "outputs": [],
      "execution_count": null
    }
  ]
}