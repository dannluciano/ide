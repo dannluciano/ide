{
  "metadata": {
    "kernelspec": {
      "name": "xcpp23",
      "display_name": "C++23",
      "language": "cpp"
    },
    "language_info": {
      "codemirror_mode": "text/x-c++src",
      "file_extension": ".cpp",
      "mimetype": "text/x-c++src",
      "name": "C++",
      "version": "23"
    }
  },
  "nbformat_minor": 5,
  "nbformat": 4,
  "cells": [
    {
      "id": "deb3572a-e349-4969-b272-b1b919592e43",
      "cell_type": "markdown",
      "source": "# Introdução\n",
      "metadata": {}
    },
    {
      "id": "94fadd6c-0a18-4234-9b58-98f270e73eea",
      "cell_type": "markdown",
      "source": "# Input\n",
      "metadata": {
        "tags": [],
        "editable": true,
        "slideshow": {
          "slide_type": ""
        }
      }
    },
    {
      "id": "d253c212-7c89-42d5-b9aa-b36b9aee2a05",
      "cell_type": "code",
      "source": "#include <stdio.h>",
      "metadata": {
        "trusted": true,
        "tags": [],
        "editable": true,
        "slideshow": {
          "slide_type": ""
        }
      },
      "outputs": [],
      "execution_count": 1
    },
    {
      "id": "2ef3287f-7f0d-40df-a60f-44bfb7716ab8",
      "cell_type": "code",
      "source": "%%file input.txt\nDann Luciano de Menezes",
      "metadata": {
        "trusted": true
      },
      "outputs": [
        {
          "name": "stdout",
          "output_type": "stream",
          "text": "Overwriting input.txt\n"
        }
      ],
      "execution_count": 1
    },
    {
      "id": "c7e32aa5-a115-49f2-a502-9d923ca4523f",
      "cell_type": "code",
      "source": "// FILE* stdin;\n// FILE* stdout;\n// FILE* stderr;\n\nint main(void){\n    FILE* in = fopen(\"input.txt\", \"r\");\n    \n    printf(\"Ola Mundo\\n\");\n    char name[255] = {\"Fulano\"};\n    fscanf(in, \"%255[^\\n]\", name);\n    printf(\"%s\\n\", name);\n    \n    fclose(in);\n}",
      "metadata": {
        "trusted": true,
        "tags": [],
        "editable": true,
        "slideshow": {
          "slide_type": ""
        }
      },
      "outputs": [],
      "execution_count": 2
    },
    {
      "id": "97bfb977-3785-4430-946a-dbf1cd98c64c",
      "cell_type": "code",
      "source": "main();",
      "metadata": {
        "trusted": true,
        "tags": [],
        "editable": true,
        "slideshow": {
          "slide_type": ""
        }
      },
      "outputs": [
        {
          "name": "stdout",
          "output_type": "stream",
          "text": "Ola Mundo\nDann Luciano de Menezes\n"
        }
      ],
      "execution_count": 3
    }
  ]
}