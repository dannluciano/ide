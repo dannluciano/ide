{
  "cells": [
    {
      "cell_type": "markdown",
      "id": "aa9d4f33-5bd8-42f2-918a-e654d4363577",
      "metadata": {},
      "source": [
        "<center>\n",
        "    <h1>Noyau C basé sur xeus</h1>\n",
        "    <h2>Introduction au langage C</h2>\n",
        "</center>\n",
        "\n",
        "Ce notebook est une introduction à la syntaxe de base du langage C, tout en démontrant les fonctionnalités spécifiques de ce noyau Jupyter. Ce noyau est basé sur `xeus-cpp`, un interpréteur C/C++ basé sur clang, et l'implémentation native `xeus` du protocole Jupyter.\n",
        "\n",
        "- Dépôt GitHub : https://github.com/compiler-research/xeus-cpp\n",
        "- Documentation : https://xeus-cpp.readthedocs.io/en/latest/"
      ]
    },
    {
      "cell_type": "markdown",
      "id": "9af8aa44-7786-47b6-b94b-8579470acb3a",
      "metadata": {
        "jp-MarkdownHeadingCollapsed": true
      },
      "source": [
        ":::{tip} Utilisation\n",
        "Pour exécuter la cellule de code sélectionnée, appuyez sur `Maj + Entrée`\n",
        ":::"
      ]
    },
    {
      "cell_type": "markdown",
      "id": "e8a9f4c3-a1b2-4d5e-8f9a-6c7b0d1e2f3a",
      "metadata": {},
      "source": [
        "# Partie 1 : Syntaxe de Base du C"
      ]
    },
    {
      "cell_type": "markdown",
      "id": "be1c8c6c-3fbe-4f53-9deb-8496c43d26ad",
      "metadata": {},
      "source": [
        "## Affichage et Flux de Sortie\n",
        "\n",
        "Le moyen le plus simple d'afficher du texte ou des valeurs est la fonction `printf` de la bibliothèque standard `stdio.h`.\n",
        "\n",
        "Les flux de sortie standard (`stdout`) et d'erreur (`stderr`) sont redirigés vers l'interface de ce notebook."
      ]
    },
    {
      "cell_type": "code",
      "execution_count": 1,
      "id": "9bd7f767-6c22-4a1b-a1e2-cd4184fd0367",
      "metadata": {
        "trusted": true,
        "vscode": {
          "languageId": "c"
        }
      },
      "outputs": [
        {
          "name": "stdout",
          "output_type": "stream",
          "text": [
            "Bonjour, le monde !\n"
          ]
        }
      ],
      "source": [
        "#include <stdio.h>\n",
        "\n",
        "// Affiche une chaîne de caractères sur la sortie standard\n",
        "printf(\"Bonjour, le monde !\\n\");"
      ]
    },
    {
      "cell_type": "code",
      "execution_count": 2,
      "id": "9622f20f-5925-4544-a97b-aada3a14209a",
      "metadata": {
        "trusted": true,
        "vscode": {
          "languageId": "c"
        }
      },
      "outputs": [
        {
          "name": "stderr",
          "output_type": "stream",
          "text": [
            "Ceci est un message d'erreur.\n"
          ]
        }
      ],
      "source": [
        "#include <stdio.h>\n",
        "\n",
        "// Affiche une chaîne de caractères sur le flux d'erreur standard\n",
        "fprintf(stderr, \"Ceci est un message d'erreur.\\n\");"
      ]
    },
    {
      "cell_type": "markdown",
      "id": "a1b2c3d4-e5f6-4a7b-8c9d-0e1f2a3b4c5d",
      "metadata": {},
      "source": [
        "## Variables et Types de Données\n",
        "\n",
        "En C, vous devez déclarer le type de chaque variable avant de l'utiliser. Voici les types de base :"
      ]
    },
    {
      "cell_type": "code",
      "execution_count": 3,
      "id": "7af0c962-17dc-47d4-9772-b8a06e2bda3a",
      "metadata": {
        "trusted": true,
        "vscode": {
          "languageId": "c"
        }
      },
      "outputs": [
        {
          "name": "stdout",
          "output_type": "stream",
          "text": [
            "Entier : 10\n",
            "Flottant : 3.140000\n",
            "Double : 2.718280\n",
            "Caractère : A\n"
          ]
        }
      ],
      "source": [
        "#include <stdio.h>\n",
        "\n",
        "int entier = 10;          // Nombre entier\n",
        "float flottant = 3.14f;     // Nombre à virgule flottante (simple précision)\n",
        "double flottant_double = 2.71828;\n",
        "char caractere = 'A';       // Un seul caractère\n",
        "\n",
        "printf(\"Entier : %d\\n\", entier);\n",
        "printf(\"Flottant : %f\\n\", flottant);\n",
        "printf(\"Double : %lf\\n\", flottant_double);\n",
        "printf(\"Caractère : %c\\n\", caractere);"
      ]
    },
    {
      "cell_type": "markdown",
      "id": "f7a8b9c0-d1e2-4f5a-8b9c-0d1e2f3a4b5c",
      "metadata": {},
      "source": [
        "## Structures de Contrôle\n",
        "\n",
        "Les structures de contrôle comme `if-else` et les boucles `for` ou `while` permettent de contrôler le flux d'exécution du programme."
      ]
    },
    {
      "cell_type": "code",
      "execution_count": 4,
      "id": "d1e2f3a4-b5c6-4d7e-8f9a-0b1c2d3e4f5a",
      "metadata": {
        "trusted": true,
        "vscode": {
          "languageId": "c"
        }
      },
      "outputs": [
        {
          "name": "stdout",
          "output_type": "stream",
          "text": [
            "a est plus grand que 5\n"
          ]
        }
      ],
      "source": [
        "#include <stdio.h>\n",
        "\n",
        "int a = 10;\n",
        "\n",
        "if (a > 5) {\n",
        "    printf(\"a est plus grand que 5\\n\");\n",
        "} else {\n",
        "    printf(\"a n'est pas plus grand que 5\\n\");\n",
        "}"
      ]
    },
    {
      "cell_type": "code",
      "execution_count": 5,
      "id": "b5c6d7e8-f9a0-4b1c-8d2e-3f4a5b6c7d8e",
      "metadata": {
        "trusted": true,
        "vscode": {
          "languageId": "c"
        }
      },
      "outputs": [
        {
          "name": "stdout",
          "output_type": "stream",
          "text": [
            "i = 0\n",
            "i = 1\n",
            "i = 2\n",
            "i = 3\n",
            "i = 4\n"
          ]
        }
      ],
      "source": [
        "#include <stdio.h>\n",
        "\n",
        "// Boucle for pour afficher les nombres de 0 à 4\n",
        "for (int i = 0; i < 5; i++) {\n",
        "    printf(\"i = %d\\n\", i);\n",
        "}"
      ]
    },
    {
      "cell_type": "markdown",
      "id": "e5b116ce-ced1-4aa4-b14e-ef7d2606202e",
      "metadata": {},
      "source": [
        "## Fonctions\n",
        "\n",
        "Les fonctions permettent de regrouper des instructions pour effectuer une tâche spécifique. Elles peuvent prendre des paramètres et retourner une valeur."
      ]
    },
    {
      "cell_type": "code",
      "execution_count": 6,
      "id": "86b08f22-e16c-4eac-917d-ae6eeb7ec7cb",
      "metadata": {
        "trusted": true,
        "vscode": {
          "languageId": "c"
        }
      },
      "outputs": [],
      "source": [
        "// Calcule le carré d'un nombre\n",
        "double sqr(double a)\n",
        "{\n",
        "    return a * a;\n",
        "}"
      ]
    },
    {
      "cell_type": "code",
      "execution_count": 7,
      "id": "5aff6711-54bf-4280-a496-c9f7c683eee5",
      "metadata": {
        "trusted": true,
        "vscode": {
          "languageId": "c"
        }
      },
      "outputs": [
        {
          "name": "stdout",
          "output_type": "stream",
          "text": [
            "Le carré de 2.500000 est 6.250000\n"
          ]
        }
      ],
      "source": [
        "#include <stdio.h>\n",
        "\n",
        "double a = 2.5;\n",
        "double asqr = sqr(a);\n",
        "printf(\"Le carré de %f est %f\\n\", a, asqr);"
      ]
    },
    {
      "cell_type": "markdown",
      "id": "c1d2e3f4-a5b6-4c7d-8e9f-0a1b2c3d4e5f",
      "metadata": {},
      "source": [
        "## Tableaux et Structures\n",
        "\n",
        "Les **tableaux** stockent plusieurs éléments du même type. Les **structures** (`struct`) regroupent des variables de types potentiellement différents en une seule entité."
      ]
    },
    {
      "cell_type": "code",
      "execution_count": 8,
      "id": "d981a53b-8185-49c5-8a30-02453cc1b9e9",
      "metadata": {
        "trusted": true,
        "vscode": {
          "languageId": "c"
        }
      },
      "outputs": [
        {
          "name": "stdout",
          "output_type": "stream",
          "text": [
            "Point à (10, 20)\n",
            "Premier élément du tableau : 1\n"
          ]
        }
      ],
      "source": [
        "#include <stdio.h>\n",
        "\n",
        "// Déclaration d'une structure pour représenter un point\n",
        "typedef struct {\n",
        "    int x;\n",
        "    int y;\n",
        "} Point;\n",
        "\n",
        "void afficherPoint(Point p) {\n",
        "    printf(\"Point à (%d, %d)\\n\", p.x, p.y);\n",
        "}\n",
        "\n",
        "// Utilisation de la structure et d'un tableau\n",
        "Point p1 = {10, 20};\n",
        "afficherPoint(p1);\n",
        "\n",
        "// Tableau d'entiers\n",
        "int nombres[3] = {1, 2, 3};\n",
        "printf(\"Premier élément du tableau : %d\\n\", nombres[0]);"
      ]
    },
    {
      "cell_type": "markdown",
      "id": "a39c7021-ee9f-442e-8ea3-63ca23aa5d46",
      "metadata": {},
      "source": [
        "# Partie 2 : Spécificités du Noyau Jupyter C\n",
        "\n",
        "Le noyau C, basé sur `xeus-cling`, offre des fonctionnalités interactives qui ne font pas partie du C standard."
      ]
    },
    {
      "cell_type": "markdown",
      "id": "73aa865d-f643-4b72-9701-f6e312914690",
      "metadata": {},
      "source": [
        "## Saisie de l'utilisateur avec `scanf`\n",
        "\n",
        "Vous pouvez lire des données entrées par l'utilisateur directement dans le notebook."
      ]
    },
    {
      "cell_type": "code",
      "execution_count": 9,
      "id": "6efd2bbc-525a-4659-9431-aefc819e8cb7",
      "metadata": {
        "trusted": true,
        "vscode": {
          "languageId": "c"
        }
      },
      "outputs": [],
      "source": [
        "#include <stdio.h>\n",
        "\n",
        "char nom[100]; // Allouer un tampon pour le nom\n",
        "printf(\"Entrez votre nom : \");\n",
        "scanf(\"%99s\", nom); // Lire l'entrée utilisateur de manière sécurisée"
      ]
    },
    {
      "cell_type": "code",
      "execution_count": 10,
      "id": "8ec65830-4cb5-4d01-a860-f6c46ac4f60f",
      "metadata": {
        "trusted": true,
        "vscode": {
          "languageId": "c"
        }
      },
      "outputs": [],
      "source": [
        "printf(\"Votre nom est %s\\n\", nom);"
      ]
    },
    {
      "cell_type": "markdown",
      "id": "6ce20171-18cb-4373-874b-89e6a2d2e425",
      "metadata": {},
      "source": [
        "## Obtenir de la documentation\n",
        "\n",
        "Utilisez `?` devant une fonction de la bibliothèque standard pour obtenir sa documentation depuis cppreference.com."
      ]
    },
    {
      "cell_type": "code",
      "execution_count": 11,
      "id": "c723686c-a70b-4e68-a175-b2224f0616aa",
      "metadata": {
        "trusted": true,
        "vscode": {
          "languageId": "c"
        }
      },
      "outputs": [
        {
          "data": {
            "text/html": [
              "<style>\n",
              "            #pager-container {\n",
              "                padding: 0;\n",
              "                margin: 0;\n",
              "                width: 100%;\n",
              "                height: 100%;\n",
              "            }\n",
              "            .xcpp-iframe-pager {\n",
              "                padding: 0;\n",
              "                margin: 0;\n",
              "                width: 100%;\n",
              "                height: 100%;\n",
              "                border: none;\n",
              "            }\n",
              "            </style>\n",
              "            <iframe class=\"xcpp-iframe-pager\" src=\"https://fr.cppreference.com/w/c/io/fprintf\"></iframe>"
            ],
            "text/plain": [
              "https://fr.cppreference.com/w/c/io/fprintf"
            ]
          },
          "metadata": {},
          "output_type": "display_data"
        }
      ],
      "source": [
        "?printf"
      ]
    },
    {
      "cell_type": "markdown",
      "id": "afee187b-2e6a-47db-acb1-8dab5a975565",
      "metadata": {
        "vscode": {
          "languageId": "c"
        }
      },
      "source": [
        "## Affichage de données riches (Images, Audio, HTML)\n",
        "\n",
        "L'affichage de contenus multimédias est une fonctionnalité puissante de ce noyau, mais elle repose sur des bibliothèques C++. Pour l'utiliser, vous devrez écrire du code C++ dans vos cellules. Les exemples suivants sont donc commentés, car ils ne sont pas en C pur."
      ]
    },
    {
      "cell_type": "code",
      "execution_count": 12,
      "id": "362cc371-9fb7-4f2c-8824-f566498ae99b",
      "metadata": {
        "trusted": true,
        "vscode": {
          "languageId": "c"
        }
      },
      "outputs": [],
      "source": [
        "/* EXEMPLE EN C++ (non exécutable en C pur)\n",
        "\n",
        "#include <string>\n",
        "#include <fstream>\n",
        "#include <sstream>\n",
        "#include \"nlohmann/json.hpp\"\n",
        "#include \"xeus/xbase64.hpp\"\n",
        "#include \"xcpp/xdisplay.hpp\"\n",
        "\n",
        "namespace im {\n",
        "    struct image {   \n",
        "        image(const std::string& filename) {\n",
        "            std::ifstream fin(filename, std::ios::binary);\n",
        "            m_buffer << fin.rdbuf();\n",
        "        }\n",
        "        std::stringstream m_buffer;\n",
        "    };\n",
        "    \n",
        "    nlohmann::json mime_bundle_repr(const image& i) {\n",
        "        auto bundle = nlohmann::json::object();\n",
        "        bundle[\"image/png\"] = xeus::base64encode(i.m_buffer.str());\n",
        "        return bundle;\n",
        "    }\n",
        "}\n",
        "\n",
        "im::image marie(\"marie.png\");\n",
        "xcpp::display(marie);\n",
        "\n",
        "*/"
      ]
    },
    {
      "cell_type": "markdown",
      "id": "aa21443e-f927-4af1-b2ba-46ddd76dee65",
      "metadata": {},
      "source": [
        "### Effacer la sortie\n",
        "\n",
        "De même, la fonction pour effacer la sortie d'une cellule est une extension C++ du noyau. Il n'existe pas d'équivalent en C standard."
      ]
    },
    {
      "cell_type": "code",
      "execution_count": 13,
      "id": "7e05d371-633d-4419-95d1-29f77985859b",
      "metadata": {
        "trusted": true,
        "vscode": {
          "languageId": "c"
        }
      },
      "outputs": [],
      "source": [
        "/* EXEMPLE EN C++ (non exécutable en C pur)\n",
        "\n",
        "#include <iostream>\n",
        "#include <chrono>\n",
        "#include <thread>\n",
        "#include \"xcpp/xdisplay.hpp\"\n",
        "\n",
        "std::cout << \"bonjour\" << std::endl;\n",
        "std::this_thread::sleep_for(std::chrono::seconds(1));\n",
        "xcpp::clear_output();\n",
        "std::this_thread::sleep_for(std::chrono::seconds(1));\n",
        "std::cout << \"au revoir\" << std::endl;\n",
        "\n",
        "*/\n",
        "\n",
        "// Comportement équivalent en C sans l'effacement de sortie\n",
        "#include <stdio.h>\n",
        "#include <unistd.h> // Pour sleep()\n",
        "\n",
        "printf(\"bonjour\\n\");\n",
        "fflush(stdout); // Force l'affichage immédiat\n",
        "sleep(1);\n",
        "// impossible d'effacer la sortie en C standard, donc \"au revoir\" s'ajoutera à la suite.\n",
        "printf(\"au revoir\\n\");"
      ]
    },
    {
      "cell_type": "markdown",
      "id": "4e69d1e7-3a55-4f91-8b82-15056ec0173e",
      "metadata": {},
      "source": [
        "### Accélération SIMD via les intrinsèques WebAssembly\n",
        "\n",
        "Le noyau `xeus-cling` permet d'utiliser des fonctionnalités avancées comme les instructions SIMD pour WebAssembly, qui sont accessibles via des en-têtes compatibles C.\n",
        "\n",
        "Exemple inspiré de https://emscripten.org/docs/porting/simd.html#webassembly-simd-intrinsics"
      ]
    },
    {
      "cell_type": "code",
      "execution_count": 14,
      "id": "7a8d42ee-79a6-4b5c-8d79-35d688e40c17",
      "metadata": {
        "trusted": true,
        "vscode": {
          "languageId": "c"
        }
      },
      "outputs": [],
      "source": [
        "#include <wasm_simd128.h>\n",
        "#include <stdio.h>"
      ]
    },
    {
      "cell_type": "code",
      "execution_count": 15,
      "id": "f6a65b84-ad63-455d-9704-a597b3b0f45c",
      "metadata": {
        "trusted": true,
        "vscode": {
          "languageId": "c"
        }
      },
      "outputs": [
        {
          "name": "stdout",
          "output_type": "stream",
          "text": [
            "v3: [3.3, 7.7, 12.1, 16.5]\n"
          ]
        }
      ],
      "source": [
        "v128_t v1 = wasm_f32x4_make(1.2f, 3.4f, 5.6f, 7.8f);\n",
        "v128_t v2 = wasm_f32x4_make(2.1f, 4.3f, 6.5f, 8.7f);\n",
        "\n",
        "v128_t v3 = wasm_f32x4_add(v1, v2);\n",
        "\n",
        "printf(\"v3: [%.1f, %.1f, %.1f, %.1f]\\n\",\n",
        "    wasm_f32x4_extract_lane(v3, 0),\n",
        "    wasm_f32x4_extract_lane(v3, 1),\n",
        "    wasm_f32x4_extract_lane(v3, 2),\n",
        "    wasm_f32x4_extract_lane(v3, 3));"
      ]
    },
    {
      "cell_type": "markdown",
      "id": "c7dcdb89-6e0c-44a2-a968-d9fb9907deda",
      "metadata": {},
      "source": [
        "# Partie 3 : Sujets Avancés (Aperçu)\n",
        "\n",
        "Le C ne possède pas nativement certains concepts du C++ comme les classes, le polymorphisme ou les templates. Il est cependant possible de les simuler, bien que cela soit un sujet plus avancé."
      ]
    },
    {
      "cell_type": "markdown",
      "id": "9ecc1588-cb6e-4676-bb16-b9938e980b06",
      "metadata": {},
      "source": [
        "## Simulation du Polymorphisme\n",
        "\n",
        "On peut simuler le polymorphisme en C en utilisant des **pointeurs de fonction** dans les structures. L'exemple ci-dessous est une simplification extrême."
      ]
    },
    {
      "cell_type": "code",
      "execution_count": 16,
      "id": "4df90bea-5c9e-462e-bd20-d80fd169b7b6",
      "metadata": {
        "trusted": true,
        "vscode": {
          "languageId": "c"
        }
      },
      "outputs": [
        {
          "name": "stdout",
          "output_type": "stream",
          "text": [
            "Foo valeur = 1.200000\n",
            "Bar valeur = 2.400000\n"
          ]
        }
      ],
      "source": [
        "#include <stdio.h>\n",
        "#include <stdlib.h>\n",
        "\n",
        "// Structure de base avec un pointeur de fonction\n",
        "typedef struct FooVtable {\n",
        "    void (*print)(void* self, double value);\n",
        "} FooVtable;\n",
        "\n",
        "// Fonctions spécifiques\n",
        "void Foo_print_impl(void* self, double value) {\n",
        "    printf(\"Foo valeur = %f\\n\", value);\n",
        "}\n",
        "void Bar_print_impl(void* self, double value) {\n",
        "    printf(\"Bar valeur = %f\\n\", 2 * value);\n",
        "}\n",
        "\n",
        "// Tables de fonctions virtuelles (Vtables)\n",
        "FooVtable foo_vtable = { Foo_print_impl };\n",
        "FooVtable bar_vtable = { Bar_print_impl };\n",
        "\n",
        "typedef struct {\n",
        "    FooVtable* vptr;\n",
        "} FooLike;\n",
        "\n",
        "// Utilisation\n",
        "FooLike* my_foo = (FooLike*)malloc(sizeof(FooLike));\n",
        "my_foo->vptr = &foo_vtable;\n",
        "\n",
        "FooLike* my_bar = (FooLike*)malloc(sizeof(FooLike));\n",
        "my_bar->vptr = &bar_vtable;\n",
        "\n",
        "// Appels \"polymorphes\"\n",
        "my_foo->vptr->print(my_foo, 1.2);\n",
        "my_bar->vptr->print(my_bar, 1.2);\n",
        "\n",
        "free(my_foo);\n",
        "free(my_bar);"
      ]
    }
  ],
  "metadata": {
    "kernelspec": {
      "display_name": "C",
      "language": "c",
      "name": "xcc"
    },
    "language_info": {
      "codemirror_mode": "text/x-csrc",
      "file_extension": ".c",
      "mimetype": "text/x-csrc",
      "name": "C",
      "version": "11"
    }
  },
  "nbformat": 4,
  "nbformat_minor": 5
}
