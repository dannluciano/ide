{
  "metadata": {
    "kernelspec": {
      "name": "xc23",
      "display_name": "C23",
      "language": "c"
    },
    "language_info": {
      "codemirror_mode": "text/x-c++src",
      "file_extension": ".cpp",
      "mimetype": "text/x-c++src",
      "name": "C++",
      "version": "0"
    }
  },
  "nbformat_minor": 5,
  "nbformat": 4,
  "cells": [
    {
      "id": "aa9d4f33-5bd8-42f2-918a-e654d4363577",
      "cell_type": "markdown",
      "source": "<center>\n    <h1>Noyau C basé sur xeus</h1>\n    <h2>Introduction au langage C</h2>\n</center>\n\nCe notebook est une introduction à la syntaxe de base du langage C, tout en démontrant les fonctionnalités spécifiques de ce noyau Jupyter. Ce noyau est basé sur `xeus-cpp`, un interpréteur C/C++ basé sur clang, et l'implémentation native `xeus` du protocole Jupyter.\n\n- Dépôt GitHub : https://github.com/compiler-research/xeus-cpp\n- Documentation : https://xeus-cpp.readthedocs.io/en/latest/",
      "metadata": {}
    },
    {
      "id": "9af8aa44-7786-47b6-b94b-8579470acb3a",
      "cell_type": "markdown",
      "source": ":::{tip} Utilisation\nPour exécuter la cellule de code sélectionnée, appuyez sur `Maj + Entrée`\n:::",
      "metadata": {
        "jp-MarkdownHeadingCollapsed": true
      }
    },
    {
      "id": "e8a9f4c3-a1b2-4d5e-8f9a-6c7b0d1e2f3a",
      "cell_type": "markdown",
      "source": "# Partie 1 : Syntaxe de Base du C",
      "metadata": {}
    },
    {
      "id": "be1c8c6c-3fbe-4f53-9deb-8496c43d26ad",
      "cell_type": "markdown",
      "source": "## Affichage et Flux de Sortie\n\nLe moyen le plus simple d'afficher du texte ou des valeurs est la fonction `printf` de la bibliothèque standard `stdio.h`.\n\nLes flux de sortie standard (`stdout`) et d'erreur (`stderr`) sont redirigés vers l'interface de ce notebook.",
      "metadata": {}
    },
    {
      "id": "9bd7f767-6c22-4a1b-a1e2-cd4184fd0367",
      "cell_type": "code",
      "source": "#include <stdio.h>\n\n// Affiche une chaîne de caractères sur la sortie standard\nprintf(\"Bonjour, le monde !\\n\");",
      "metadata": {
        "trusted": true,
        "vscode": {
          "languageId": "c"
        }
      },
      "outputs": [
        {
          "name": "stdout",
          "output_type": "stream",
          "text": "Bonjour, le monde !\n"
        }
      ],
      "execution_count": 1
    },
    {
      "id": "9622f20f-5925-4544-a97b-aada3a14209a",
      "cell_type": "code",
      "source": "#include <stdio.h>\n\n// Affiche une chaîne de caractères sur le flux d'erreur standard\nfprintf(stderr, \"Ceci est un message d'erreur.\\n\");",
      "metadata": {
        "trusted": true,
        "vscode": {
          "languageId": "c"
        }
      },
      "outputs": [],
      "execution_count": 2
    },
    {
      "id": "a1b2c3d4-e5f6-4a7b-8c9d-0e1f2a3b4c5d",
      "cell_type": "markdown",
      "source": "## Variables et Types de Données\n\nEn C, vous devez déclarer le type de chaque variable avant de l'utiliser. Voici les types de base :",
      "metadata": {}
    },
    {
      "id": "7af0c962-17dc-47d4-9772-b8a06e2bda3a",
      "cell_type": "code",
      "source": "#include <stdio.h>\n\nint entier = 10;          // Nombre entier\nfloat flottant = 3.14f;     // Nombre à virgule flottante (simple précision)\ndouble flottant_double = 2.71828;\nchar caractere = 'A';       // Un seul caractère\n\nprintf(\"Entier : %d\\n\", entier);\nprintf(\"Flottant : %f\\n\", flottant);\nprintf(\"Double : %lf\\n\", flottant_double);\nprintf(\"Caractère : %c\\n\", caractere);",
      "metadata": {
        "trusted": true,
        "vscode": {
          "languageId": "c"
        }
      },
      "outputs": [
        {
          "name": "stdout",
          "output_type": "stream",
          "text": "Entier : 10\nFlottant : 3.140000\nDouble : 2.718280\nCaractère : A\n"
        }
      ],
      "execution_count": 3
    },
    {
      "id": "f7a8b9c0-d1e2-4f5a-8b9c-0d1e2f3a4b5c",
      "cell_type": "markdown",
      "source": "## Structures de Contrôle\n\nLes structures de contrôle comme `if-else` et les boucles `for` ou `while` permettent de contrôler le flux d'exécution du programme.",
      "metadata": {}
    },
    {
      "id": "d1e2f3a4-b5c6-4d7e-8f9a-0b1c2d3e4f5a",
      "cell_type": "code",
      "source": "#include <stdio.h>\n\nint a = 10;\n\nif (a > 5) {\n    printf(\"a est plus grand que 5\\n\");\n} else {\n    printf(\"a n'est pas plus grand que 5\\n\");\n}",
      "metadata": {
        "trusted": true,
        "vscode": {
          "languageId": "c"
        }
      },
      "outputs": [
        {
          "name": "stdout",
          "output_type": "stream",
          "text": "a est plus grand que 5\n"
        }
      ],
      "execution_count": 4
    },
    {
      "id": "b5c6d7e8-f9a0-4b1c-8d2e-3f4a5b6c7d8e",
      "cell_type": "code",
      "source": "#include <stdio.h>\n\n// Boucle for pour afficher les nombres de 0 à 4\nfor (int i = 0; i < 5; i++) {\n    printf(\"i = %d\\n\", i);\n}",
      "metadata": {
        "trusted": true,
        "vscode": {
          "languageId": "c"
        }
      },
      "outputs": [
        {
          "name": "stdout",
          "output_type": "stream",
          "text": "i = 0\ni = 1\ni = 2\ni = 3\ni = 4\n"
        }
      ],
      "execution_count": 5
    },
    {
      "id": "e5b116ce-ced1-4aa4-b14e-ef7d2606202e",
      "cell_type": "markdown",
      "source": "## Fonctions\n\nLes fonctions permettent de regrouper des instructions pour effectuer une tâche spécifique. Elles peuvent prendre des paramètres et retourner une valeur.",
      "metadata": {}
    },
    {
      "id": "86b08f22-e16c-4eac-917d-ae6eeb7ec7cb",
      "cell_type": "code",
      "source": "// Calcule le carré d'un nombre\ndouble sqr(double a)\n{\n    return a * a;\n}",
      "metadata": {
        "trusted": true,
        "vscode": {
          "languageId": "c"
        }
      },
      "outputs": [],
      "execution_count": 6
    },
    {
      "id": "5aff6711-54bf-4280-a496-c9f7c683eee5",
      "cell_type": "code",
      "source": "#include <stdio.h>\ndouble a, asqr;\na = 2.5;\nasqr = sqr(a);\nprintf(\"Le carré de %f est %f\\n\", a, asqr);",
      "metadata": {
        "trusted": true,
        "vscode": {
          "languageId": "c"
        }
      },
      "outputs": [
        {
          "name": "stdout",
          "output_type": "stream",
          "text": "Le carré de 2.500000 est 6.250000\n"
        }
      ],
      "execution_count": 7
    },
    {
      "id": "c1d2e3f4-a5b6-4c7d-8e9f-0a1b2c3d4e5f",
      "cell_type": "markdown",
      "source": "## Tableaux et Structures\n\nLes **tableaux** stockent plusieurs éléments du même type. Les **structures** (`struct`) regroupent des variables de types potentiellement différents en une seule entité.",
      "metadata": {}
    },
    {
      "id": "d981a53b-8185-49c5-8a30-02453cc1b9e9",
      "cell_type": "code",
      "source": "#include <stdio.h>\n\n// Déclaration d'une structure pour représenter un point\ntypedef struct {\n    int x;\n    int y;\n} Point;\n\nvoid afficherPoint(Point p) {\n    printf(\"Point à (%d, %d)\\n\", p.x, p.y);\n}\n\n// Utilisation de la structure et d'un tableau\nPoint p1 = {10, 20};\nafficherPoint(p1);\n\n// Tableau d'entiers\nint nombres[3] = {1, 2, 3};\nprintf(\"Premier élément du tableau : %d\\n\", nombres[0]);",
      "metadata": {
        "trusted": true,
        "vscode": {
          "languageId": "c"
        }
      },
      "outputs": [
        {
          "name": "stdout",
          "output_type": "stream",
          "text": "Point à (10, 20)\nPremier élément du tableau : 1\n"
        }
      ],
      "execution_count": 8
    },
    {
      "id": "a39c7021-ee9f-442e-8ea3-63ca23aa5d46",
      "cell_type": "markdown",
      "source": "# Partie 2 : Spécificités du Noyau Jupyter C\n\nLe noyau C, basé sur `xeus-cpp`, offre des fonctionnalités interactives qui ne font pas partie du C standard.",
      "metadata": {}
    },
    {
      "id": "73aa865d-f643-4b72-9701-f6e312914690",
      "cell_type": "markdown",
      "source": "## Saisie de l'utilisateur avec `scanf`\n\nVous pouvez lire des données entrées par l'utilisateur directement dans le notebook.",
      "metadata": {}
    },
    {
      "id": "6efd2bbc-525a-4659-9431-aefc819e8cb7",
      "cell_type": "code",
      "source": "#include <stdio.h>\n\nchar nom[100]; // Allouer un tampon pour le nom\nprintf(\"Entrez votre nom : \");\nscanf(\"%99s\", nom); // Lire l'entrée utilisateur de manière sécurisée",
      "metadata": {
        "trusted": true,
        "vscode": {
          "languageId": "c"
        }
      },
      "outputs": [
        {
          "name": "stdout",
          "output_type": "stream",
          "text": "Entrez votre nom : "
        }
      ],
      "execution_count": 9
    },
    {
      "id": "8ec65830-4cb5-4d01-a860-f6c46ac4f60f",
      "cell_type": "code",
      "source": "printf(\"Votre nom est %s\\n\", nom);",
      "metadata": {
        "trusted": true,
        "vscode": {
          "languageId": "c"
        }
      },
      "outputs": [
        {
          "name": "stdout",
          "output_type": "stream",
          "text": "Votre nom est \n"
        }
      ],
      "execution_count": 10
    },
    {
      "id": "6ce20171-18cb-4373-874b-89e6a2d2e425",
      "cell_type": "markdown",
      "source": "## Obtenir de la documentation\n\nUtilisez `?` devant une fonction de la bibliothèque standard pour obtenir sa documentation depuis cppreference.com.",
      "metadata": {}
    },
    {
      "id": "c723686c-a70b-4e68-a175-b2224f0616aa",
      "cell_type": "code",
      "source": "?printf",
      "metadata": {
        "trusted": true,
        "vscode": {
          "languageId": "c"
        }
      },
      "outputs": [
        {
          "output_type": "display_data",
          "data": {
            "text/html": "<style>\n            #pager-container {\n                padding: 0;\n                margin: 0;\n                width: 100%;\n                height: 100%;\n            }\n            .xcpp-iframe-pager {\n                padding: 0;\n                margin: 0;\n                width: 100%;\n                height: 100%;\n                border: none;\n            }\n            </style>\n            <iframe class=\"xcpp-iframe-pager\" src=\"https://en.cppreference.com/w/cpp/io/c/fprintf?action=purge\"></iframe>",
            "text/plain": "https://en.cppreference.com/w/cpp/io/c/fprintf"
          },
          "metadata": {}
        }
      ],
      "execution_count": 11
    },
    {
      "id": "afee187b-2e6a-47db-acb1-8dab5a975565",
      "cell_type": "markdown",
      "source": "## Affichage de données riches (Images, Audio, HTML)\n\nL'affichage de contenus multimédias est une fonctionnalité puissante de ce noyau, mais elle repose sur des bibliothèques C++. Pour l'utiliser, vous devrez écrire du code C++ dans vos cellules. Les exemples suivants sont donc commentés, car ils ne sont pas en C pur.",
      "metadata": {
        "vscode": {
          "languageId": "c"
        }
      }
    },
    {
      "id": "362cc371-9fb7-4f2c-8824-f566498ae99b",
      "cell_type": "code",
      "source": "/* EXEMPLE EN C++ (non exécutable en C pur)\n\n#include <string>\n#include <fstream>\n#include <sstream>\n#include \"nlohmann/json.hpp\"\n#include \"xeus/xbase64.hpp\"\n#include \"xcpp/xdisplay.hpp\"\n\nnamespace im {\n    struct image {   \n        image(const std::string& filename) {\n            std::ifstream fin(filename, std::ios::binary);\n            m_buffer << fin.rdbuf();\n        }\n        std::stringstream m_buffer;\n    };\n    \n    nlohmann::json mime_bundle_repr(const image& i) {\n        auto bundle = nlohmann::json::object();\n        bundle[\"image/png\"] = xeus::base64encode(i.m_buffer.str());\n        return bundle;\n    }\n}\n\nim::image marie(\"marie.png\");\nxcpp::display(marie);\n\n*/",
      "metadata": {
        "trusted": true,
        "vscode": {
          "languageId": "c"
        }
      },
      "outputs": [],
      "execution_count": 12
    },
    {
      "id": "aa21443e-f927-4af1-b2ba-46ddd76dee65",
      "cell_type": "markdown",
      "source": "### Effacer la sortie\n\nDe même, la fonction pour effacer la sortie d'une cellule est une extension C++ du noyau. Il n'existe pas d'équivalent en C standard.",
      "metadata": {}
    },
    {
      "id": "7e05d371-633d-4419-95d1-29f77985859b",
      "cell_type": "code",
      "source": "/* EXEMPLE EN C++ (non exécutable en C pur)\n\n#include <iostream>\n#include <chrono>\n#include <thread>\n#include \"xcpp/xdisplay.hpp\"\n\nstd::cout << \"bonjour\" << std::endl;\nstd::this_thread::sleep_for(std::chrono::seconds(1));\nxcpp::clear_output();\nstd::this_thread::sleep_for(std::chrono::seconds(1));\nstd::cout << \"au revoir\" << std::endl;\n\n*/\n\n// Comportement équivalent en C sans l'effacement de sortie\n#include <stdio.h>\n#include <unistd.h> // Pour sleep()\n\nprintf(\"bonjour\\n\");\nfflush(stdout); // Force l'affichage immédiat\nsleep(1);\n// impossible d'effacer la sortie en C standard, donc \"au revoir\" s'ajoutera à la suite.\nprintf(\"au revoir\\n\");",
      "metadata": {
        "trusted": true,
        "vscode": {
          "languageId": "c"
        }
      },
      "outputs": [
        {
          "name": "stdout",
          "output_type": "stream",
          "text": "bonjour\nau revoir\n"
        }
      ],
      "execution_count": 13
    },
    {
      "id": "4e69d1e7-3a55-4f91-8b82-15056ec0173e",
      "cell_type": "markdown",
      "source": "### Accélération SIMD via les intrinsèques WebAssembly\n\nLe noyau `xeus-cling` permet d'utiliser des fonctionnalités avancées comme les instructions SIMD pour WebAssembly, qui sont accessibles via des en-têtes compatibles C.\n\nExemple inspiré de https://emscripten.org/docs/porting/simd.html#webassembly-simd-intrinsics",
      "metadata": {}
    },
    {
      "id": "7a8d42ee-79a6-4b5c-8d79-35d688e40c17",
      "cell_type": "code",
      "source": "#include <wasm_simd128.h>\n#include <stdio.h>",
      "metadata": {
        "trusted": true,
        "vscode": {
          "languageId": "c"
        }
      },
      "outputs": [],
      "execution_count": 14
    },
    {
      "id": "f6a65b84-ad63-455d-9704-a597b3b0f45c",
      "cell_type": "code",
      "source": "v128_t v1,v2, v3;\n\nv1 = wasm_f32x4_make(1.2f, 3.4f, 5.6f, 7.8f);\nv2 = wasm_f32x4_make(2.1f, 4.3f, 6.5f, 8.7f);\nv3 = wasm_f32x4_add(v1, v2);\n\nprintf(\"v3: [%.1f, %.1f, %.1f, %.1f]\\n\",\n    wasm_f32x4_extract_lane(v3, 0),\n    wasm_f32x4_extract_lane(v3, 1),\n    wasm_f32x4_extract_lane(v3, 2),\n    wasm_f32x4_extract_lane(v3, 3));",
      "metadata": {
        "trusted": true,
        "vscode": {
          "languageId": "c"
        }
      },
      "outputs": [
        {
          "name": "stdout",
          "output_type": "stream",
          "text": "v3: [3.3, 7.7, 12.1, 16.5]\n"
        }
      ],
      "execution_count": 15
    },
    {
      "id": "c7dcdb89-6e0c-44a2-a968-d9fb9907deda",
      "cell_type": "markdown",
      "source": "# Partie 3 : Sujets Avancés (Aperçu)\n\nLe C ne possède pas nativement certains concepts du C++ comme les classes, le polymorphisme ou les templates. Il est cependant possible de les simuler, bien que cela soit un sujet plus avancé.",
      "metadata": {}
    },
    {
      "id": "9ecc1588-cb6e-4676-bb16-b9938e980b06",
      "cell_type": "markdown",
      "source": "## Simulation du Polymorphisme\n\nOn peut simuler le polymorphisme en C en utilisant des **pointeurs de fonction** dans les structures. L'exemple ci-dessous est une simplification extrême.",
      "metadata": {}
    },
    {
      "id": "4df90bea-5c9e-462e-bd20-d80fd169b7b6",
      "cell_type": "code",
      "source": "#include <stdio.h>\n#include <stdlib.h>\n\n// Structure de base avec un pointeur de fonction\ntypedef struct FooVtable {\n    void (*print)(void* self, double value);\n} FooVtable;\n\n// Fonctions spécifiques\nvoid Foo_print_impl(void* self, double value) {\n    printf(\"Foo valeur = %f\\n\", value);\n}\nvoid Bar_print_impl(void* self, double value) {\n    printf(\"Bar valeur = %f\\n\", 2 * value);\n}\n\n// Tables de fonctions virtuelles (Vtables)\nFooVtable foo_vtable = { Foo_print_impl };\nFooVtable bar_vtable = { Bar_print_impl };\n\ntypedef struct {\n    FooVtable* vptr;\n} FooLike;\n\n// Utilisation\nFooLike* my_foo = malloc(sizeof(FooLike));\nmy_foo->vptr = &foo_vtable;\n\nFooLike* my_bar = malloc(sizeof(FooLike));\nmy_bar->vptr = &bar_vtable;\n\n// Appels \"polymorphes\"\nmy_foo->vptr->print(my_foo, 1.2);\nmy_bar->vptr->print(my_bar, 1.2);\n\nfree(my_foo);\nfree(my_bar);",
      "metadata": {
        "trusted": true,
        "vscode": {
          "languageId": "c"
        }
      },
      "outputs": [
        {
          "name": "stderr",
          "output_type": "stream",
          "text": "In file included from <<< inputs >>>:1:\ninput_line_2:26:19: error: initializer element is not a compile-time constant\n   26 | FooLike* my_foo = malloc(sizeof(FooLike));\n      |                   ^~~~~~~~~~~~~~~~~~~~~~~\ninput_line_2:29:19: error: initializer element is not a compile-time constant\n   29 | FooLike* my_bar = malloc(sizeof(FooLike));\n      |                   ^~~~~~~~~~~~~~~~~~~~~~~\nFailed to parse via ::process:Parsing failed.\n"
        },
        {
          "ename": "Error: ",
          "evalue": "Compilation error! In file included from <<< inputs >>>:1:\ninput_line_2:26:19: error: initializer element is not a compile-time constant\n   26 | FooLike* my_foo = malloc(sizeof(FooLike));\n      |                   ^~~~~~~~~~~~~~~~~~~~~~~\ninput_line_2:29:19: error: initializer element is not a compile-time constant\n   29 | FooLike* my_bar = malloc(sizeof(FooLike));\n      |                   ^~~~~~~~~~~~~~~~~~~~~~~\nFailed to parse via ::process:Parsing failed.\n",
          "traceback": [
            "Error: Compilation error! In file included from <<< inputs >>>:1:\ninput_line_2:26:19: error: initializer element is not a compile-time constant\n   26 | FooLike* my_foo = malloc(sizeof(FooLike));\n      |                   ^~~~~~~~~~~~~~~~~~~~~~~\ninput_line_2:29:19: error: initializer element is not a compile-time constant\n   29 | FooLike* my_bar = malloc(sizeof(FooLike));\n      |                   ^~~~~~~~~~~~~~~~~~~~~~~\nFailed to parse via ::process:Parsing failed.\n"
          ],
          "output_type": "error"
        }
      ],
      "execution_count": 1
    },
    {
      "id": "0cb503ea-6e91-4832-8f58-2bf356dc89d6",
      "cell_type": "code",
      "source": "",
      "metadata": {
        "trusted": true
      },
      "outputs": [],
      "execution_count": null
    }
  ]
}